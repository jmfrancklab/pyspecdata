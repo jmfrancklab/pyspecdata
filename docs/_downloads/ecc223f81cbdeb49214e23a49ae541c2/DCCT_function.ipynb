{
  "cells": [
    {
      "cell_type": "markdown",
      "metadata": {},
      "source": [
        "# Using the DCCT function\n\nVisualize a simulated inversion recovery dataset\nutilizing the benefits of the DCCT plotting style.\n\nWe can image data in both the phase cycling domain,\nas well as the coherence transfer domain. Artifacts can\nclearly be discerned from signal in the coherence transfer\ndomain as well as visualizing the inversion of phase \nusing the domain colored plotting style.\n"
      ]
    },
    {
      "cell_type": "code",
      "execution_count": null,
      "metadata": {
        "collapsed": false
      },
      "outputs": [],
      "source": [
        "from pylab import *\nfrom pyspecdata import *\nfrom numpy.random import normal, seed\nfrom numpy.linalg import norm\nimport sympy as s\nfrom collections import OrderedDict\n\nseed(2021)\nrcParams[\"image.aspect\"] = \"auto\"  # needed for sphinx gallery\n# sphinx_gallery_thumbnail_number = 2\ninit_logging(level=\"debug\")\n\nwith figlist_var() as fl:\n    # provide the symbols that we use for the fake data:\n    t2, td, vd, ph1, ph2 = s.symbols(\"t2 td vd ph1 ph2\")\n    echo_time = 5e-3\n    data = fake_data(\n        # Give the functional form of the fake data.\n        # This is an inversion recovery with\n        # T\u2081 of 0.2\n        # T\u2082* broadening of 50 Hz\n        # (echo maximum at echo_time)\n        # amplitude of 21\n        # resonance offset 100 Hz\n        21\n        * (1 - 2 * s.exp(-vd / 0.2))\n        * s.exp(+1j * 2 * s.pi * 100 * (t2) - abs(t2) * 50 * s.pi),\n        # next we give our dimensions with outer loops first, as they\n        # would be acquired on the spectrometer\n        # (ordering does matter, because fake_data applies a\n        # time-dependent resonance variation -- see fake_data doc.)\n        OrderedDict(\n            [\n                (\"vd\", nddata(r_[0:1:40j], \"vd\")),\n                (\"ph1\", nddata(r_[0, 2] / 4.0, \"ph1\")),\n                (\"ph2\", nddata(r_[0:4] / 4.0, \"ph2\")),\n                (\"t2\", nddata(r_[0:0.2:256j] - echo_time, \"t2\")),\n            ]\n        ),\n        {\"ph1\": 0, \"ph2\": 1},\n    )\n    # reorder into a format more suitable for plotting\n    data.reorder([\"ph1\", \"ph2\", \"vd\", \"t2\"])\n    # fake_data gives us data already in the coherence domain, so:\n    data.ift([\"ph1\", \"ph2\"])\n    # keyword arguments to use throughout\n    dcct_kwargs = dict(\n        total_spacing=0.2,\n        label_spacing_multiplier=65,\n        LHS_pad=0.05,\n        )\n    fig = fl.next(\"raw data\")\n    DCCT(data, fig, plot_title=fl.current, **dcct_kwargs)\n    fig = fl.next(\"DCCT -- time domain\")\n    data.ft([\"ph1\", \"ph2\"])\n    DCCT(data, fig, plot_title=fl.current, **dcct_kwargs)\n    fig = fl.next(\"DCCT -- frequency domain\")\n    data.ft(\"t2\")\n    DCCT(data, fig, plot_title=fl.current, **dcct_kwargs)"
      ]
    }
  ],
  "metadata": {
    "kernelspec": {
      "display_name": "Python 3",
      "language": "python",
      "name": "python3"
    },
    "language_info": {
      "codemirror_mode": {
        "name": "ipython",
        "version": 3
      },
      "file_extension": ".py",
      "mimetype": "text/x-python",
      "name": "python",
      "nbconvert_exporter": "python",
      "pygments_lexer": "ipython3",
      "version": "3.11.2"
    }
  },
  "nbformat": 4,
  "nbformat_minor": 0
}