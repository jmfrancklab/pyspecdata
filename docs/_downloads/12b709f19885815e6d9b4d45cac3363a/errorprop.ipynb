{
  "cells": [
    {
      "cell_type": "code",
      "execution_count": null,
      "metadata": {
        "collapsed": false
      },
      "outputs": [],
      "source": [
        "%matplotlib inline"
      ]
    },
    {
      "cell_type": "markdown",
      "metadata": {},
      "source": [
        "\n# Error Propagation\n\nDemonstrating automatic error propagation for a set of simple functions.\n"
      ]
    },
    {
      "cell_type": "code",
      "execution_count": null,
      "metadata": {
        "collapsed": false
      },
      "outputs": [],
      "source": [
        "from pylab import *\nfrom pyspecdata import *\nfl = figlist_var()\na = nddata(r_[-1:1:100j],'x').set_units('x','m')\na.set_error(0.1)\nb = a.C\nb.run(lambda t: t**2+0.1)\nb.set_error(0.1)\nprint(b.get_error('x'))\nfl.next('$a$', figsize=(9,4))\nfl.plot(a)\nfl.next('$b$', figsize=(9,4))\nfl.plot(b)\nfl.next('aob', figsize=(9,4))\nfl.plot(a/b)\ntitle('$a/b$')\nfl.show()"
      ]
    }
  ],
  "metadata": {
    "kernelspec": {
      "display_name": "Python 3",
      "language": "python",
      "name": "python3"
    },
    "language_info": {
      "codemirror_mode": {
        "name": "ipython",
        "version": 3
      },
      "file_extension": ".py",
      "mimetype": "text/x-python",
      "name": "python",
      "nbconvert_exporter": "python",
      "pygments_lexer": "ipython3",
      "version": "3.8.3"
    }
  },
  "nbformat": 4,
  "nbformat_minor": 0
}