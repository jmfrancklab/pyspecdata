{
  "cells": [
    {
      "cell_type": "markdown",
      "metadata": {},
      "source": [
        "# PPM in 2D\n\nShow how :func:`to_ppm()` can apply to two dimensions!\n"
      ]
    },
    {
      "cell_type": "code",
      "execution_count": null,
      "metadata": {
        "collapsed": false
      },
      "outputs": [],
      "source": [
        "from numpy import pi, r_, exp\nfrom pyspecdata import nddata, figlist_var\n\n# make peaks on a frequency axis\nx = nddata(r_[0:5:1024j], \"t2\")\ny = nddata(r_[0:5:1024j], \"t1\")\n\n# generate time-domain signal\nsignal = 0 * x * y  # create an array of zeros that's the right shape\nfor nu1, nu2 in [(25, -50), (-50, -50), (-2, -75), (-75, 25), (50, 72)]:\n    signal += exp(\n        +1j * 2 * pi * nu2 * x - x / 0.2 + 1j * 2 * pi * nu1 * y - y / 0.05\n    )\nsignal.ft(\"t2\", shift=True)\nsignal.ft(\"t1\", shift=True)\n\nsignal.set_prop(\"acq\", {\"SFO1\": 300.196194352191})\nsignal.set_prop(\"proc\", {\"OFFSET\": 7.408084, \"SF\": 300})\n\nwith figlist_var() as fl:\n    fl.next(\"the spectrum\")\n    fl.image(signal)\n    signal.to_ppm(\"t2\")\n    signal.to_ppm(\"t1\")\n    fl.next(\"after converting to ppm\")\n    fl.image(signal)"
      ]
    }
  ],
  "metadata": {
    "kernelspec": {
      "display_name": "Python 3",
      "language": "python",
      "name": "python3"
    },
    "language_info": {
      "codemirror_mode": {
        "name": "ipython",
        "version": 3
      },
      "file_extension": ".py",
      "mimetype": "text/x-python",
      "name": "python",
      "nbconvert_exporter": "python",
      "pygments_lexer": "ipython3",
      "version": "3.11.2"
    }
  },
  "nbformat": 4,
  "nbformat_minor": 0
}