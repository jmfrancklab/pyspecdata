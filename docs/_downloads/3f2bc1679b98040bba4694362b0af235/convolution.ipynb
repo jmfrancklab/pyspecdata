{
  "cells": [
    {
      "cell_type": "markdown",
      "metadata": {},
      "source": [
        "# Simple Convolution Example\nSince we use convolution a bit for signal analysis, test it here.\n\nThis also demonstrates the point that, when performing convolution, it's\nimportant to distinguish between signals that are \"causal\" (like an FID --\nconsisting of real and imag that are Hermite transform pairs) vs. \"non-causal\"\n(e.g. take the real part or the energy of a causal signal, or analyze a noise\nPSD).\nWe show the time-domain signal by way of explanation as to how these are\ntreated differently.\n"
      ]
    },
    {
      "cell_type": "code",
      "execution_count": null,
      "metadata": {
        "collapsed": false
      },
      "outputs": [],
      "source": [
        "from pylab import *\nfrom pyspecdata import *\nt = nddata(r_[0:4:1024j],'t').set_units('t','s')\nsignal = exp(-1j*2*pi*100*t-20*t/pi)\nsignal.add_noise(0.01)\nwith figlist_var() as fl:\n    fl.next('Time domain')\n    fl.plot(signal, label='original')\n    fl.next('Fourier transform', legend=True)\n    signal.ft('t', shift=True)\n    signal_real_copy = signal.real\n    signal_real_copy_noncausal = signal.real\n    fl.plot(signal, label='original')\n    signal.convolve('t',5)\n    signal_real_copy.convolve('t',5)\n    signal_real_copy_noncausal.convolve('t',5, enforce_causality=False)\n    fl.plot(signal, label='after convolve')\n    fl.plot(signal_real_copy, label='real copy, after convolve')\n    fl.plot(signal_real_copy_noncausal, ':', label='real copy, after convolve, treat as non-causal')\n    fl.next('Time domain')\n    signal.ift('t')\n    signal_real_copy.ift('t')\n    signal_real_copy_noncausal.ift('t')\n    fl.plot(signal, label='after convolve')\n    fl.plot(signal_real_copy, label='real copy, after convolve')\n    fl.plot(signal_real_copy_noncausal, ':', label='real copy, after convolve, treat as non-causal')"
      ]
    }
  ],
  "metadata": {
    "kernelspec": {
      "display_name": "Python 3",
      "language": "python",
      "name": "python3"
    },
    "language_info": {
      "codemirror_mode": {
        "name": "ipython",
        "version": 3
      },
      "file_extension": ".py",
      "mimetype": "text/x-python",
      "name": "python",
      "nbconvert_exporter": "python",
      "pygments_lexer": "ipython3",
      "version": "3.11.2"
    }
  },
  "nbformat": 4,
  "nbformat_minor": 0
}