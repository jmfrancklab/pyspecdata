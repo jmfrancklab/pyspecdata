{
  "cells": [
    {
      "cell_type": "code",
      "execution_count": null,
      "metadata": {
        "collapsed": false
      },
      "outputs": [],
      "source": [
        "%matplotlib inline"
      ]
    },
    {
      "cell_type": "markdown",
      "metadata": {},
      "source": [
        "# Fitting Data (Nonlinear + Symbolic)\n\nThis example creates fake data with noise\nthen fits the exponential with the fitdata\nfunction.\n"
      ]
    },
    {
      "cell_type": "code",
      "execution_count": null,
      "metadata": {
        "collapsed": false
      },
      "outputs": [],
      "source": [
        "from pyspecdata import *\nimport sympy as sp\n\n# {{{ this is the contents of pylab.py -- works\n# need to go through and figure out which lines\n# are actually needed and which are not\n# -- I have already stripped out some\nfrom lmfit import Parameters, minimize\nfrom matplotlib.pyplot import figure, subplot, show, xlim, ylim, plot, gca\nfrom numpy import *  # I think it wasn't importing from numpy b/c it seems we're inside sphinx\n\n\ndef list_symbs(f):\n    # {{{ this is just to show all the parameters\n    list_symbs = []\n    for j, k in f.output().items():\n        s_repr = sp.latex(sp.Symbol(j))\n        list_symbs.append(f\"${s_repr} = {k:0.5g}$\")\n    list_symbs = \"\\n\".join(list_symbs)\n    # }}}\n    return list_symbs\n\n\n# }}}\nfl = figlist_var()\n# {{{creating a fake data recovery curve\np = nddata(r_[0:4:30j], \"p\")\nfake_data = 102 * p / (1.0 + p)\nfake_data.add_noise(5.0)\n# }}}\n# {{{ define the expression of the functional form once, and then use it\n#     for both types of classes\n# ksC is k_\u03c3 s\u2098\u2090\u2093 C\nksC, phalf, p = sp.symbols(\"ksC phalf p\", real=True)\nfunctional_form = ksC*p/(phalf+p)\n# }}}\nwith figlist_var() as fl:\n    fl.next(\"fit with guess\")\n    fl.plot(fake_data, \"o\", alpha=0.5, label=\"fake data\")\n\n\n    # {{{ lmfitdata method\n    lmfitdata_instance = lmfitdata(fake_data)\n    lmfitdata_instance.functional_form = functional_form\n    lmfitdata_instance.set_guess(\n        phalf=dict(value=0.5, min=0, max=5),\n        ksC=dict(value=50, min=0, max=500),\n    )\n    # }}}\n    fl.next(\"fit with guess\")\n    lmfitdata_instance.settoguess()\n    guess_line = fl.plot(\n        lmfitdata_instance.eval(100), \":\", alpha=0.5, label=\"fitdata guess\"\n    )\n    thiscolor = guess_line[0].get_color()\n    lmfitdata_instance.fit()\n    print(\"-\" * 5, \"Results for fitdata:\", \"-\" * 5)\n    print(\"output for fitdata:\", lmfitdata_instance.output())\n    print(\"latex for fitdata:\", lmfitdata_instance.latex())\n    this_ls = \"-\"\n    fit_line = fl.plot(\n        lmfitdata_instance.eval(100),\n        ls=this_ls,\n        color=thiscolor,\n        alpha=0.5,\n        label=\"fitdata fit\",\n    )\n    ax = gca()\n    x_text, y_text = 0.5,0.5 # where we want the text to go\n    text(\n        x_text,\n        y_text,\n        \"fitdata RESULT: %s\" % lmfitdata_instance.latex(),\n        ha=\"center\",\n        va=\"center\",\n        color=thiscolor,\n        transform=ax.transAxes,\n    )\n    text(\n        x_text,\n        y_text,\n        (3 * \"\\n\") + list_symbs(lmfitdata_instance),\n        ha=\"center\",\n        va=\"top\",\n        size=10,\n        color=thiscolor,\n        transform=ax.transAxes,\n    )"
      ]
    }
  ],
  "metadata": {
    "kernelspec": {
      "display_name": "Python 3",
      "language": "python",
      "name": "python3"
    },
    "language_info": {
      "codemirror_mode": {
        "name": "ipython",
        "version": 3
      },
      "file_extension": ".py",
      "mimetype": "text/x-python",
      "name": "python",
      "nbconvert_exporter": "python",
      "pygments_lexer": "ipython3",
      "version": "3.9.7"
    }
  },
  "nbformat": 4,
  "nbformat_minor": 0
}