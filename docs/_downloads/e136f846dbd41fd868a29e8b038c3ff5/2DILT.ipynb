{
  "cells": [
    {
      "cell_type": "markdown",
      "metadata": {},
      "source": [
        "\n# 2D ILT\nHere, we're going to provide a few demonstrations of the ILT functionality.\nLet's start with Fig 1.10 in A. Beaton's thesis, which is based off the\nfigures in Venkataramanan.\n"
      ]
    },
    {
      "cell_type": "code",
      "execution_count": null,
      "metadata": {
        "collapsed": false
      },
      "outputs": [],
      "source": [
        "from pylab import (\n    figure,\n    title,\n    show,\n    linspace,\n    logspace,\n    log10,\n    exp,\n    sqrt,\n    rcParams,\n)\nimport numpy as np\nfrom pyspecdata import nddata, image\n\nrcParams[\"image.aspect\"] = \"auto\"  # needed for sphinx gallery\n# sphinx_gallery_thumbnail_number = 2\n\nNT1 = 300  # Number of T1 values\nNT2 = 300  # Number of T2 values\nLT1_name = r\"$\\log(T_1)$\"\nLT1 = nddata(linspace(-2.5, 0.5, NT1), LT1_name)\nLT2_name = r\"$\\log(T_2)$\"\nLT2 = nddata(linspace(-2.5, 0.3, NT2), LT2_name)\nmu = [-1.25, -1.75]\nsigma = [0.1, 0.1]\nexact_data = exp(\n    -((LT1 - mu[0]) ** 2) / 2 / sigma[0] ** 2\n    - (LT2 - mu[1]) ** 2 / 2 / sigma[1] ** 2\n)\nslanted_coord1 = (LT1 + LT2) / sqrt(2)\nslanted_coord2 = (LT2 - LT1) / sqrt(2)\nmu = [-1.0, -0.4]\nmu = [  # convert to slanted coords\n    (mu[0] + mu[1]) / sqrt(2),\n    (mu[1] - mu[0]) / sqrt(2),\n]\nsigma = [0.5, 0.05]  # in slanted\nexact_data += exp(\n    -((slanted_coord1 - mu[0]) ** 2) / 2 / sigma[0] ** 2\n    - (slanted_coord2 - mu[1]) ** 2 / 2 / sigma[1] ** 2\n)\nexact_data.reorder(LT2_name)  # T\u2082 along y axis\n\nfigure(1)\ntitle(\"exact data\")\nimage(exact_data)"
      ]
    },
    {
      "cell_type": "markdown",
      "metadata": {},
      "source": [
        "Now add the experimental decay dimensions ($\\tau_1$ and\n$\\tau_2$)\n\n"
      ]
    },
    {
      "cell_type": "code",
      "execution_count": null,
      "metadata": {
        "collapsed": false
      },
      "outputs": [],
      "source": [
        "tau1 = nddata(logspace(log10(5.0e-4), log10(4), 30), \"tau1\")\ntau2 = nddata(linspace(5.0e-4, 3.8, 1000), \"tau2\")"
      ]
    },
    {
      "cell_type": "markdown",
      "metadata": {},
      "source": [
        "Pre-allocate the $\\tau_1\\times\\tau_2$ result via\nndshape\u2019s `alloc`, inline\n\n"
      ]
    },
    {
      "cell_type": "code",
      "execution_count": null,
      "metadata": {
        "collapsed": false
      },
      "outputs": [],
      "source": [
        "simulated_data = (tau1.shape | tau2.shape).alloc(dtype=np.float64)\nsimulated_data.reorder(\"tau2\")  # T\u2082 along y axis"
      ]
    },
    {
      "cell_type": "markdown",
      "metadata": {},
      "source": [
        "pySpecData makes it easy to construct fake data like this. Typically this is\nvery easy, but here, we must contend with the fact that we are\nmemory-limited, so if we want a highly resolved fit basis, we need to chunk\nup the calculation.  Nonetheless, pySpecData still makes that easy: let's see\nhow!\n\nBlock sizes (tune to available RAM)\n\n"
      ]
    },
    {
      "cell_type": "code",
      "execution_count": null,
      "metadata": {
        "collapsed": false
      },
      "outputs": [],
      "source": [
        "bLT1 = 20\nbLT2 = 20"
      ]
    },
    {
      "cell_type": "markdown",
      "metadata": {},
      "source": [
        "Loop over `LT1` and `LT2` in blocks, vectorized over\n$\\tau_{1}$ and $\\tau_{2}$ dims each time\n\n\\begin{align}T_1 = 10^{\\log(T_1)}\n\n  R_1 = 10^{-\\log(T_1)}\n\n  \\ln(R_1) = -\\log(T_1) \\ln(10)\\end{align}\n\n"
      ]
    },
    {
      "cell_type": "code",
      "execution_count": null,
      "metadata": {
        "collapsed": false
      },
      "outputs": [],
      "source": [
        "print(\n    \"Generating the fake data can take some time.  I need to loop a\"\n    f\" calculation in chunks over a {LT1.shape[LT1_name]} \u00d7\"\n    f\" {LT2.shape[LT2_name]} grid\"\n)\nfor i in range(0, LT1.shape[LT1_name], bLT1):\n    LT1_blk = LT1[LT1_name, slice(i, i + bLT1)]\n    B1 = 1 - 2 * exp(-tau1 / 10**LT1_blk)  # dims: (tau1, LT1_blk)\n    for j in range(0, LT2.shape[LT2_name], bLT2):\n        print(i, j)\n        LT2_blk = LT2[LT2_name, slice(j, j + bLT2)]\n        B2 = exp(-tau2 / 10**LT2_blk)  # dims: (tau2, LT2_blk)\n        # Extract matching block of exact_data\n        data_blk = exact_data[LT1_name, slice(i, i + bLT1)][\n            LT2_name, slice(j, j + bLT2)\n        ]  # dims: (tau1, tau2, LT1_blk, LT2_blk)\n        # Multiply, sum out both LT axes, and accumulate\n        simulated_data += (B2 * B1 * data_blk).real.sum(LT1_name).sum(LT2_name)\nprint(\"done generating\")"
      ]
    },
    {
      "cell_type": "markdown",
      "metadata": {},
      "source": [
        "`simulated_data` now holds the $\\tau_1\\times\\tau_2$\nsynthetic data.\nSo, add noise, and scale data so that noise has norm of 1\n\n"
      ]
    },
    {
      "cell_type": "code",
      "execution_count": null,
      "metadata": {
        "collapsed": false
      },
      "outputs": [],
      "source": [
        "simulated_data.add_noise(0.1)\nsimulated_data /= 0.1"
      ]
    },
    {
      "cell_type": "markdown",
      "metadata": {},
      "source": [
        "Use BRD to find the value of $\\lambda$ ($\\alpha$).\nNote that BRD assumes that you have scaled your data so that the stdev\nof the noise is 1.0.\n\n"
      ]
    },
    {
      "cell_type": "code",
      "execution_count": null,
      "metadata": {
        "collapsed": false
      },
      "outputs": [],
      "source": [
        "simulated_data.nnls(\n    (\"tau1\", \"tau2\"),\n    (LT1, LT2),\n    (\n        lambda tau1, LT1: 1 - 2 * exp(-tau1 * 10**-LT1),\n        lambda tau2, LT2: exp(-tau2 * 10**-LT2),\n    ),\n    l=\"BRD\",\n)\n\nfigure(2)\ntitle(\"BRD\")\nimage(simulated_data)\n\nshow()"
      ]
    }
  ],
  "metadata": {
    "kernelspec": {
      "display_name": "Python 3",
      "language": "python",
      "name": "python3"
    },
    "language_info": {
      "codemirror_mode": {
        "name": "ipython",
        "version": 3
      },
      "file_extension": ".py",
      "mimetype": "text/x-python",
      "name": "python",
      "nbconvert_exporter": "python",
      "pygments_lexer": "ipython3",
      "version": "3.11.2"
    }
  },
  "nbformat": 4,
  "nbformat_minor": 0
}