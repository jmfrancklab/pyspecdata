{
  "cells": [
    {
      "cell_type": "markdown",
      "metadata": {},
      "source": [
        "\n# Unitary FT\nDemonstrate new argument to ft and ift that allows you to take an FT that's\nunitary in the vector sense -- this way, you don't have to e.g. multiply by dt\nand divide by the  number of points.\n(This is a standard capability with raw numpy, but we just had not much use for\nit before)\n"
      ]
    },
    {
      "cell_type": "code",
      "execution_count": null,
      "metadata": {
        "collapsed": false
      },
      "outputs": [],
      "source": [
        "from pylab import *\nfrom pyspecdata import *\n\nfig, (ax_time, ax_freq) = subplots(2, 1)\nt = nddata(r_[0:0.5:1e-3], \"t2\")  # 1 kHz SW with a freq. resolution of 1/0.5=2 Hz\nfake_data = exp(1j * 2 * pi * 100 * t - 10 * t * pi)  # 10 Hz wide line at 100 Hz offset\nfake_data.add_noise(0.1).set_units(\"t2\", \"s\")\nlogger.info(strm(\"vector norm of fake data, before ft\", linalg.norm(fake_data.data)))\nplot(\n    fake_data,\n    ax=ax_time,\n    alpha=0.5,\n    label=\"vector norm=%g\" % linalg.norm(fake_data.data),\n)\nax_time.set_title(\"time domain\")\nax_freq.set_title(\"frequency domain\")\nfake_data.ft(\"t2\", shift=True, unitary=True)\nlogger.info(\n    strm(\"vector norm of fake data, after unitary ft\", linalg.norm(fake_data.data))\n)\nassert fake_data.get_ft_prop(\"t2\", \"dt\") == 1e-3\nplot(\n    fake_data,\n    ax=ax_freq,\n    alpha=0.5,\n    label=\"vector norm=%g\" % linalg.norm(fake_data.data),\n)\nfake_data.ift(\n    \"t2\"\n)  # because we already used \"unitary\" for the ft, it knows the ift is unitary.\n#    In fact, passing \"unitary\" as a keyword argument will generate an error here\nlogger.info(\n    strm(\"vector norm of fake data, after unitary ift\", linalg.norm(fake_data.data))\n)\nax_time.legend(**dict(bbox_to_anchor=(1.05, 1), loc=2, borderaxespad=0.0))\nax_freq.legend(**dict(bbox_to_anchor=(1.05, 1), loc=2, borderaxespad=0.0))\nfig.tight_layout()\nshow()"
      ]
    }
  ],
  "metadata": {
    "kernelspec": {
      "display_name": "Python 3",
      "language": "python",
      "name": "python3"
    },
    "language_info": {
      "codemirror_mode": {
        "name": "ipython",
        "version": 3
      },
      "file_extension": ".py",
      "mimetype": "text/x-python",
      "name": "python",
      "nbconvert_exporter": "python",
      "pygments_lexer": "ipython3",
      "version": "3.11.2"
    }
  },
  "nbformat": 4,
  "nbformat_minor": 0
}