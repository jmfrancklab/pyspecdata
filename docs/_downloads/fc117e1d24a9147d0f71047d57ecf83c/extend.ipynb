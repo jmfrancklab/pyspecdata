{
  "cells": [
    {
      "cell_type": "code",
      "execution_count": null,
      "metadata": {
        "collapsed": false
      },
      "outputs": [],
      "source": [
        "%matplotlib inline"
      ]
    },
    {
      "cell_type": "markdown",
      "metadata": {},
      "source": [
        "\n# Extend\n\nDemonstrate how to extend past the limits of the data.\n"
      ]
    },
    {
      "cell_type": "code",
      "execution_count": null,
      "metadata": {
        "collapsed": false
      },
      "outputs": [],
      "source": [
        "from pylab import *\nfrom pyspecdata import *\nfrom numpy.random import normal, seed\nfrom matplotlib.ticker import NullLocator, MultipleLocator, FormatStrFormatter\nseed(7919)\nd = nddata(normal(size=10000)+1j*normal(size=10000), [100,100], ['y','x']).labels(\n        {'x':r_[0:1:100j],\n        'y':r_[0:0.1:100j]})\nwith figlist_var() as fl:\n    fl.next('random data')\n    fl.image(d)\n    d.extend('x',1.5)\n    fl.next('extend along $x$')\n    fl.image(d)\n    d.extend('y',-0.05,fill_with=1)\n    fl.next('extend along $y$')\n    fl.image(d)"
      ]
    }
  ],
  "metadata": {
    "kernelspec": {
      "display_name": "Python 3",
      "language": "python",
      "name": "python3"
    },
    "language_info": {
      "codemirror_mode": {
        "name": "ipython",
        "version": 3
      },
      "file_extension": ".py",
      "mimetype": "text/x-python",
      "name": "python",
      "nbconvert_exporter": "python",
      "pygments_lexer": "ipython3",
      "version": "3.8.3"
    }
  },
  "nbformat": 4,
  "nbformat_minor": 0
}