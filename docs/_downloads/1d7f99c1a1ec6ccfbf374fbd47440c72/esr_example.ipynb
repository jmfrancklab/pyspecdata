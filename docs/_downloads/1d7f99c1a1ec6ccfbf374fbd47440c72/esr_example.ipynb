{
  "cells": [
    {
      "cell_type": "code",
      "execution_count": null,
      "metadata": {
        "collapsed": false
      },
      "outputs": [],
      "source": [
        "%matplotlib inline"
      ]
    },
    {
      "cell_type": "markdown",
      "metadata": {},
      "source": [
        "\n# Bruker cw ESR Data\n\nLoad cw Bruker ESR data, both 1D and 2D.\n"
      ]
    },
    {
      "cell_type": "code",
      "execution_count": null,
      "metadata": {
        "collapsed": false
      },
      "outputs": [],
      "source": [
        "from numpy import *\nimport pylab as plt\nfrom pyspecdata import *\n# %\n# load some 1D ESR data with harmonic + phase info\n\nd = find_file(\"S175R1a.*DHPC.*200304\",\n        exp_type='francklab_esr/Sam')\nprint(\"here, we see the harmonic axis contains both harmonic and phase info\",d.getaxis('harmonic'))\nd.chunk_auto('harmonic','phase')\nplot(d['phase',0], alpha=0.5)\n\n# %\n# Next, let's load some power-saturation data\n\nd = find_file(\"Power.*Sat.*200303\",\n        exp_type='francklab_esr/Sam')\nd.chunk_auto('harmonic','phase')\nfigure()\nimage(d['harmonic',0]['phase',0].C.setaxis('Microwave Power','#').set_units('Microwave Power','scan #'))\nplt.gca().set_aspect('auto')\nplt.show()"
      ]
    }
  ],
  "metadata": {
    "kernelspec": {
      "display_name": "Python 3",
      "language": "python",
      "name": "python3"
    },
    "language_info": {
      "codemirror_mode": {
        "name": "ipython",
        "version": 3
      },
      "file_extension": ".py",
      "mimetype": "text/x-python",
      "name": "python",
      "nbconvert_exporter": "python",
      "pygments_lexer": "ipython3",
      "version": "3.8.3"
    }
  },
  "nbformat": 4,
  "nbformat_minor": 0
}