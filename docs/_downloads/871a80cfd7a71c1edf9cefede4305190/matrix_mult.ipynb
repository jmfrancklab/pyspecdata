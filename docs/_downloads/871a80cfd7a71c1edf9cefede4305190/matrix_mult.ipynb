{
  "cells": [
    {
      "cell_type": "code",
      "execution_count": null,
      "metadata": {
        "collapsed": false
      },
      "outputs": [],
      "source": [
        "%matplotlib inline"
      ]
    },
    {
      "cell_type": "markdown",
      "metadata": {},
      "source": [
        "\n# Matrix Multiplication\n\nVarious ways of implementing different matrix multiplications.\nRead the documentation embedded in the code.\n"
      ]
    },
    {
      "cell_type": "code",
      "execution_count": null,
      "metadata": {
        "collapsed": false
      },
      "outputs": [],
      "source": [
        "# -*- coding: utf-8 -*-\nfrom pylab import *\nfrom pyspecdata import *\nfrom numpy.random import random\nimport time\ninit_logging('debug')"
      ]
    },
    {
      "cell_type": "markdown",
      "metadata": {},
      "source": [
        "In this example, the assertions essentially tell the story of what's going on\n\n"
      ]
    },
    {
      "cell_type": "markdown",
      "metadata": {},
      "source": [
        "Note that in all these examples, the pyspecdata version *appears* more\ncomplicated.\nBut, that's because these are toy examples, where we have no need for the\ndimension names or axes.\nNonetheless, we wanted to give the simplest working example possible.\n\n"
      ]
    },
    {
      "cell_type": "markdown",
      "metadata": {},
      "source": [
        "First, we demonstrate matrix multiplication\nfor all the below, I attach an axis to make sure the routines work with the\naxes attached\n\n"
      ]
    },
    {
      "cell_type": "code",
      "execution_count": null,
      "metadata": {
        "collapsed": false
      },
      "outputs": [],
      "source": [
        "a_nd = nddata(random(10*2048),[10,2048],['x','y']).setaxis('x','#').setaxis('y','#')\na = a_nd.data"
      ]
    },
    {
      "cell_type": "markdown",
      "metadata": {},
      "source": [
        "in the next line, note how only the dimension that goes away is named the\nsame!\n\nif you think about the matrix a transforming from one vector space (labeled\ny) to another (labeled x) this makes sense\n\n"
      ]
    },
    {
      "cell_type": "code",
      "execution_count": null,
      "metadata": {
        "collapsed": false
      },
      "outputs": [],
      "source": [
        "a2_nd = nddata(random(10*2048),[2048,10],['y','z']).setaxis('y','#').setaxis('z','#')\na2 = a2_nd.data\n\n# multiply two different matrices\n\ntime1 = time.time()\nb = a @ a2\ntime2 = time.time()\nb_nd = a_nd @ a2_nd"
      ]
    },
    {
      "cell_type": "markdown",
      "metadata": {},
      "source": [
        "the previous is unambiguous b/c only 'y' is shared between the two,\nbut I can do the following for clarity:\nb_nd = a_nd.along('y') @ a2_nd\n\nNote that \"along\" gives the dimension along which the sum is performed -- and\nso this dimension goes away upon matrix multiplication.\nIf only one dimension is shared between the matrices, then we know to take\nthe sum along the shared dimension.\nFor example, here a2_nd transforms from a space called \"z\" into a space called \"y\",\nwhile a_nd transforms from \"y\" into \"x\" -- so it's obvious that a_nd @ a2_nd should\ntransform from \"z\" into \"y\".\n\n"
      ]
    },
    {
      "cell_type": "code",
      "execution_count": null,
      "metadata": {
        "collapsed": false
      },
      "outputs": [],
      "source": [
        "time3 = time.time()\nassert b_nd.dimlabels == ['x','z'], b_nd.dimlabels\nassert all(isclose(b,b_nd.data))\nprint(\"total time\",(time3-time2),\"time/(time for raw)\",((time3-time2)/(time2-time1)))\nassert ((time3-time2)/(time2-time1))<1"
      ]
    },
    {
      "cell_type": "markdown",
      "metadata": {},
      "source": [
        "calculate a projection matrix\n\n"
      ]
    },
    {
      "cell_type": "code",
      "execution_count": null,
      "metadata": {
        "collapsed": false
      },
      "outputs": [],
      "source": [
        "time1 = time.time()\nb = a @ a.T\ntime2 = time.time()"
      ]
    },
    {
      "cell_type": "markdown",
      "metadata": {},
      "source": [
        "note that here, I have to rename the column space\n\n"
      ]
    },
    {
      "cell_type": "code",
      "execution_count": null,
      "metadata": {
        "collapsed": false
      },
      "outputs": [],
      "source": [
        "b_nd = a_nd.along('y',('x','x_new')) @ a_nd\ntime3 = time.time()\nassert b_nd.dimlabels == ['x_new','x'], b_nd.dimlabels\nassert all(b_nd.getaxis('x_new') == b_nd.getaxis('x'))\nassert (id(b_nd.getaxis('x_new')) != id(b_nd.getaxis('x')))\nassert all(isclose(b,b_nd.data))\nif time2-time1>0:\n    print(\"total time\",(time3-time2),\"time/(time for raw)\",((time3-time2)/(time2-time1)))\n    assert ((time3-time2)/(time2-time1))<1.1"
      ]
    },
    {
      "cell_type": "markdown",
      "metadata": {},
      "source": [
        "now, a standard dot product note how I don't need `along` here, since it's\nunambiguous\n\n"
      ]
    },
    {
      "cell_type": "code",
      "execution_count": null,
      "metadata": {
        "collapsed": false
      },
      "outputs": [],
      "source": [
        "a_nd = nddata(random(10),[10],['myaxis']).setaxis('myaxis','#')\nb_nd = nddata(random(10),[10],['myaxis']).setaxis('myaxis','#')\na = a_nd.data\nb = b_nd.data\nassert all(isclose(a.dot(b),(a_nd @ b_nd).data))"
      ]
    },
    {
      "cell_type": "markdown",
      "metadata": {},
      "source": [
        "Finally, let's show what happens when we multiply a matrix by itself and\n*don't* rename one of the dimensions\n\nBy doing this, we indicate that we're not interested in transforming from one\nvector space to another (as a projection matrix does), but rather just have\ntwo sets of vectors and are interested in finding the dot products between\nthe two sets\n\nThis will take the dot product of our 10 2048-long vectors, and present them\n10-long array\n\n"
      ]
    },
    {
      "cell_type": "code",
      "execution_count": null,
      "metadata": {
        "collapsed": false
      },
      "outputs": [],
      "source": [
        "a_nd = nddata(random(10*2048),[10,2048],['x','y']).setaxis('x','#').setaxis('y','#')\na = a_nd.data\nb_nd = a_nd.along('y') @ a_nd\nb = matmul(a_nd.data.reshape(10,1,2048),\n        a_nd.data.reshape(10,2048,1)).reshape(-1)\nassert all(isclose(b,b_nd.data))\nassert len(b.data) == 10"
      ]
    }
  ],
  "metadata": {
    "kernelspec": {
      "display_name": "Python 3",
      "language": "python",
      "name": "python3"
    },
    "language_info": {
      "codemirror_mode": {
        "name": "ipython",
        "version": 3
      },
      "file_extension": ".py",
      "mimetype": "text/x-python",
      "name": "python",
      "nbconvert_exporter": "python",
      "pygments_lexer": "ipython3",
      "version": "3.8.3"
    }
  },
  "nbformat": 4,
  "nbformat_minor": 0
}