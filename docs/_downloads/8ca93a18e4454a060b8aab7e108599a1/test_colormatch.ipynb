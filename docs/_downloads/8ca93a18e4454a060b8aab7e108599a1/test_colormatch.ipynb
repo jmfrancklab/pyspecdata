{
  "cells": [
    {
      "cell_type": "markdown",
      "metadata": {},
      "source": [
        "show an easy method for matching colors using pyspecdata\n"
      ]
    },
    {
      "cell_type": "code",
      "execution_count": null,
      "metadata": {
        "collapsed": false
      },
      "outputs": [],
      "source": [
        "import pyspecdata as psd\nimport matplotlib.pylab as plt\nfrom numpy import r_\n\n# when we set the plot color, it overrides any defaults\na = psd.nddata(r_[0:9], \"t\", alpha=0.5)\n# after we do this, we no longer need to specify the color argument to plot --\n# it's a property of the data.  It chooses the next color in the default matplotlib cycle\na.set_plot_color_next()\n# If you want to give a specific color, note that the above is equivalent to\n# a.set_plot_color(psd.mpl_utils.default_cycler)\npsd.plot(a)\n# as long as we don't override that property,\n# it will continue to be used\nb = a + 10\npsd.plot(b, alpha=0.2)\n# and if we copy our properties, this gets copied as one of them\nc = psd.nddata(r_[0:9] + 0.1, \"t\", alpha=0.2)\nc.copy_props(a)\npsd.plot(c, \".\")\nd = psd.nddata(r_[0:9] + 0.2, \"t\", alpha=0.2)\nd += 0.1\n# but wait! what if I have an unrelated set of data, but still want to move to\n# the next color in the default matplotlib cycle? just do this:\nd.set_plot_color_next()\npsd.plot(d, \":\", alpha=0.5)\nplt.show()"
      ]
    }
  ],
  "metadata": {
    "kernelspec": {
      "display_name": "Python 3",
      "language": "python",
      "name": "python3"
    },
    "language_info": {
      "codemirror_mode": {
        "name": "ipython",
        "version": 3
      },
      "file_extension": ".py",
      "mimetype": "text/x-python",
      "name": "python",
      "nbconvert_exporter": "python",
      "pygments_lexer": "ipython3",
      "version": "3.11.2"
    }
  },
  "nbformat": 4,
  "nbformat_minor": 0
}