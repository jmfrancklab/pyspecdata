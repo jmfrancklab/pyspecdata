{
  "cells": [
    {
      "cell_type": "code",
      "execution_count": null,
      "metadata": {
        "collapsed": false
      },
      "outputs": [],
      "source": [
        "%matplotlib inline"
      ]
    },
    {
      "cell_type": "markdown",
      "metadata": {},
      "source": [
        "# Plotting Routines\n\nA simple demonstration of a multi-line *vs.*\nimage plot with\n`domain coloring <https://en.wikipedia.org/wiki/Domain_coloring>`_, nested\ninside a figure list.\n\nWe specifically test a safety feature that doesn't allow image plots\nto have unevenly spaced axes,\nand show how to deal with this.\n"
      ]
    },
    {
      "cell_type": "code",
      "execution_count": null,
      "metadata": {
        "collapsed": false
      },
      "outputs": [],
      "source": [
        "from pyspecdata import *\nfrom numpy import *\n# let's make some fake inversion recovery data\nvd = nddata(r_[0,0.05,0.1,0.15,0.2,0.3,0.4,0.6,0.8,1.0,2.0,3.0,5.0],'vd')\nsignal_amp = 1-2*exp(-vd/1.0)\nt2 = nddata(r_[0:2:256j],'t2')\nsignal_amp *= exp(-t2/0.1)\nsignal_amp.add_noise(0.1)\nsignal_amp.set_units('s')\nsignal_amp.ft('t2', shift=True)\nwith figlist_var() as fl:\n    fl.next('1D data')\n    fl.plot(signal_amp.real) # without .real, newer versions of matplotlib raise a warning\n    generated_error = False\n    # If I were to just run the following command (not nested in try/except)\n    fl.next('this figure intentionally blank!')\n    try:\n        fl.image(signal_amp)\n    except:\n        generated_error = True\n    # (try it).\n    # I would get an error that tells me to do this\n    fl.next('image plot -- good axis')\n    fl.image(signal_amp.C.setaxis('vd','#').set_units('vd','scan #'))\n    assert generated_error"
      ]
    }
  ],
  "metadata": {
    "kernelspec": {
      "display_name": "Python 3",
      "language": "python",
      "name": "python3"
    },
    "language_info": {
      "codemirror_mode": {
        "name": "ipython",
        "version": 3
      },
      "file_extension": ".py",
      "mimetype": "text/x-python",
      "name": "python",
      "nbconvert_exporter": "python",
      "pygments_lexer": "ipython3",
      "version": "3.8.3"
    }
  },
  "nbformat": 4,
  "nbformat_minor": 0
}