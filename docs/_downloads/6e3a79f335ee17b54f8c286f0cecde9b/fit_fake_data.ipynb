{
  "cells": [
    {
      "cell_type": "code",
      "execution_count": null,
      "metadata": {
        "collapsed": false
      },
      "outputs": [],
      "source": [
        "%matplotlib inline"
      ]
    },
    {
      "cell_type": "markdown",
      "metadata": {},
      "source": [
        "# Fitting Data\n\nThis example creates fake data with noise\nthen fits the exponential with the fitdata\nfunction.\n"
      ]
    },
    {
      "cell_type": "code",
      "execution_count": null,
      "metadata": {
        "collapsed": false
      },
      "outputs": [],
      "source": [
        "from pyspecdata import *\nfrom sympy import symbols, latex, Symbol\nfrom sympy import exp as s_exp\n# {{{ this is the contents of pylab.py -- works\n# need to go through and figure out which lines\n# are actually needed and which are not\n# -- I have already stripped out some\nfrom matplotlib.pyplot import figure, subplot, show, xlim, ylim, plot, gca\nfrom numpy import * # I think it wasn't importing from numpy b/c it seems we're inside sphinx\n# }}}\n#{{{creating a fake data recovery curve\ntau = nddata(r_[0:2:100j], 'tau')\nfake_data = 102*(1-2*exp(-tau*6.0))\nfake_data.add_noise(5.0)\n#}}}\n#{{{ fitting data\nf = fitdata(fake_data)\nM0,Mi,R1,vd = symbols(\"M_0 M_inf R_1 tau\",real=True)\nf.functional_form = Mi + (M0-Mi)*s_exp(-vd*R1)\nlogger.info(strm(\"Functional Form\", f.functional_form))\nlogger.info(strm(\"Functional Form\", f.functional_form))\nf.set_guess({M0:-500, Mi:500, R1:2})\nf.settoguess()\nguess = f.eval(100)\nf.fit()\nprint(\"output:\",f.output())\nprint(\"latex:\",f.latex())\n#}}}\n# {{{ this is just to show all the parameters\nlist_symbs = []\nfor j,k in f.output().items():\n    s_repr = latex(Symbol(j))\n    list_symbs.append(f'${s_repr} = {k:0.5g}$')\nlist_symbs = '\\n'.join(list_symbs)\n# }}}\nT1 = 1./f.output('R_1')\n# }}}\nwith figlist_var() as fl: \n    fl.next('fit with guess')\n    fl.plot(guess,label='guess')\n    fl.plot(fake_data,'o',label='fake data')\n    thisline = fl.plot(f.eval(100),label='fit')\n    # {{{ just put the text\n    ax = gca()\n    text(0.5,0.5,f.latex(),\n            ha='center',va='center',\n            color=thisline[0].get_color(),\n            transform = ax.transAxes)\n    text(0.5,0.5,(3*'\\n')+list_symbs,\n            ha='center',va='top',\n            size=10,\n            color=thisline[0].get_color(),\n            transform = ax.transAxes)"
      ]
    }
  ],
  "metadata": {
    "kernelspec": {
      "display_name": "Python 3",
      "language": "python",
      "name": "python3"
    },
    "language_info": {
      "codemirror_mode": {
        "name": "ipython",
        "version": 3
      },
      "file_extension": ".py",
      "mimetype": "text/x-python",
      "name": "python",
      "nbconvert_exporter": "python",
      "pygments_lexer": "ipython3",
      "version": "3.8.3"
    }
  },
  "nbformat": 4,
  "nbformat_minor": 0
}