{
  "cells": [
    {
      "cell_type": "markdown",
      "metadata": {},
      "source": [
        "\n# Fit complex data with transform\n\nUsing lmfitdata, fit a complex data set.\n\nUse a transform to allow us to fit a peak in the\nfrequency domain while leaving the definition of the\npeak in the time domain.\n\nWhy is this useful?\nRemember that for noiseless spectra, the norm\nof the residual might not be the same, but\nwhen we consider noisy spectra, it's better\nto use the domain where the peak rises\nclearly above the noise.\nAlso, in the \"transform\" we can do other\nthings, such as masking, etc.\n"
      ]
    },
    {
      "cell_type": "code",
      "execution_count": null,
      "metadata": {
        "collapsed": false
      },
      "outputs": [],
      "source": [
        "import matplotlib.pyplot as plt\nfrom numpy import pi\nimport sympy as sp\nimport numpy as np\nfrom numpy import r_\nimport pyspecdata as psd\n\n# initialize logging and set a seed so this runs the same every time\npsd.init_logging(level=\"debug\")\nnp.random.seed(15816)\nA, R, nu, t, t_origin = sp.symbols(\"A R nu t t_origin\", real=True)\n# {{{ create an empty dataset and drop the fake data into it\nthisfit = psd.lmfitdata(psd.nddata(r_[-0.05:1:1001j], \"t\"))\n\n\ndef my_residual_transform(d):\n    d.ft(\"t\")\n    return d\n\n\nthisfit.residual_transform = my_residual_transform\nthisfit.functional_form = (\n    A\n    * sp.exp(-1j * 2 * pi * nu * (t - t_origin))\n    * sp.exp(-R * sp.pi * abs(t - t_origin))\n)\npsd.logger.info(psd.strm(\"Functional Form:\", thisfit.functional_form))\n# {{{ if you set only_real to True, it previously worked -- this\n#     example demonstrates that this also works when set to False\nonly_real = False\nif only_real:\n    thisfit.functional_form = sp.re(thisfit.functional_form)\n# }}}\n# {{{ create the \"true\" parameters for the fake data by pretending like\n#     the true values are a guess, and then outputting the guess data\ntrue_values = {\"A\": 14.0, \"R\": 30, \"nu\": 25, \"t_origin\": 0.01}\nthisfit.set_guess(true_values)\n# {{{ here, just set the ft startpoints -- as noted\n#     elsewhere, we should have a function to do this\n#     without actually doing the transform\nthisfit.ft(\"t\", shift=True).ift(\"t\")\n# }}}\n# }}}\nmydata = thisfit.settoguess().eval()\nmydata.add_noise(0.01)\nfig, ((ax3, ax1), (ax4, ax2)) = plt.subplots(2, 2)\npsd.plot(mydata, \"r\", label=\"data\", ax=ax1)\npsd.plot(mydata.imag, \"r\", label=\"data\", ax=ax2)\nmydata.ift(\"t\")\npsd.plot(mydata, \"r\", label=\"data\", ax=ax3)\npsd.plot(mydata.imag, \"r\", label=\"data\", ax=ax4)\n# }}}\n# {{{ set up the fit object using the \"simulated\" data\n#     here we need to IFT above, since \"eval\" above\n#     generates in the frequency domain\nnewfit = psd.lmfitdata(mydata.C)\nnewfit.functional_form = thisfit.functional_form\nnewfit.set_guess(\n    A=dict(value=13.0, max=20, min=0.0),\n    R=dict(value=10, max=1000, min=0),\n    nu=dict(value=20),\n    t_origin=dict(value=0.0, min=-0.1, max=0.1),\n)\nnewfit.residual_transform = my_residual_transform\n# }}}\n# {{{ show the guess\nguess = newfit.settoguess().eval()\npsd.plot(guess, \"g--\", label=\"guess\", ax=ax1)\npsd.plot(guess.imag, \"g--\", label=\"guess\", ax=ax2)\nguess.ift(\"t\")\npsd.plot(guess, \"g--\", label=\"guess\", ax=ax3)\npsd.plot(guess.imag, \"g--\", label=\"guess\", ax=ax4)\n# }}}\n# {{{ run the fit and generate nddata\nnewfit.fit()\nplotdata = newfit.eval()\npsd.plot(plotdata, \"b\", alpha=0.5, label=\"fit\", ax=ax1)\npsd.plot(plotdata.imag, \"b\", alpha=0.5, label=\"fit\", ax=ax2)\nplotdata.ift(\"t\")\npsd.plot(plotdata, \"b\", alpha=0.5, label=\"fit\", ax=ax3)\npsd.plot(plotdata.imag, \"b\", alpha=0.5, label=\"fit\", ax=ax4)\n# }}}\nax1.set_ylabel(\"real components\")\nax2.set_ylabel(\"imag components\")\nax3.set_ylabel(\"real components\")\nax4.set_ylabel(\"imag components\")\nax1.legend()\nax2.legend()\nplt.show()"
      ]
    }
  ],
  "metadata": {
    "kernelspec": {
      "display_name": "Python 3",
      "language": "python",
      "name": "python3"
    },
    "language_info": {
      "codemirror_mode": {
        "name": "ipython",
        "version": 3
      },
      "file_extension": ".py",
      "mimetype": "text/x-python",
      "name": "python",
      "nbconvert_exporter": "python",
      "pygments_lexer": "ipython3",
      "version": "3.11.2"
    }
  },
  "nbformat": 4,
  "nbformat_minor": 0
}