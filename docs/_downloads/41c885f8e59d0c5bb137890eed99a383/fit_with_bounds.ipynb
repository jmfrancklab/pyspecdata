{
  "cells": [
    {
      "cell_type": "code",
      "execution_count": null,
      "metadata": {
        "collapsed": false
      },
      "outputs": [],
      "source": [
        "%matplotlib inline"
      ]
    },
    {
      "cell_type": "markdown",
      "metadata": {},
      "source": [
        "\n# Fit Using Bounds\n\nAdapt one of the examples from lmfit to use sympy and pyspecdata.\nEventually, we want to use parts of this in the base library, so we don't have\nto retype them every time.\n"
      ]
    },
    {
      "cell_type": "code",
      "execution_count": null,
      "metadata": {
        "collapsed": false
      },
      "outputs": [],
      "source": [
        "import matplotlib.pyplot as plt\nfrom numpy import exp, linspace, pi, random, sign, sin\nimport sympy as sp\nfrom lmfit import Parameters, minimize\nfrom lmfit.printfuncs import report_fit\nimport numpy as np\nfrom pyspecdata import *\n\ninit_logging(level=\"debug\")\nnp.random.seed(15816)\n# {{{ helper function(s)\nclass myfitclass (object):\n    def __init__(self):\n        self.expression = None\n    expression = (2+2)\n    def gen_from_expr(self,data, guesses={}):\n        \"\"\"generate parameter descriptions and a numpy (lambda) function from a sympy expresssion\n\n        Parameters\n        ==========\n        expr: sympy expression\n        data: nddata\n            An nddata that has the same dimension labels as your data (or the data\n            itself). \n            This is not manipulated, and is needed to determine which symbols in\n            expr correspond to dimension names.\n        guesses: dict\n            dictionary of keyword arguments for guesses (value) or constraints\n            (min/max)\n\n        Returns\n        =======\n        pars: lmfit.Parameters\n        fn: function\n            the fit function\n        \"\"\"\n        # {{{ decide which symbols are parameters vs. variables\n        if self.expression is None:\n            raise ValueError(\"what expression are you fitting with??\")\n        all_symbols = self.expression.atoms(sp.Symbol)\n        axis_names = set([sp.Symbol(j) for j in data.dimlabels])\n        variable_symbols = axis_names & all_symbols\n        parameter_symbols = all_symbols - variable_symbols\n        variable_symbols = tuple(variable_symbols)\n        variable_names = tuple([str(j) for j in variable_symbols])\n        parameter_symbols = tuple(parameter_symbols)\n        parameter_names = tuple([str(j) for j in parameter_symbols])\n        logger.debug(\n            strm(\n                \"all symbols are\",\n                all_symbols,\n                \"axis names are\",\n                axis_names,\n                \"variable names are\",\n                variable_names,\n                \"parameter names are\",\n                parameter_names,\n            )\n        )\n        # }}}\n        pars = Parameters()\n        for this_name in parameter_names:\n            kwargs = {}\n            if this_name in guesses.keys():\n                logger.debug(strm(\"applying bounds for\", this_name))\n                kwargs.update(guesses[str(this_name)])\n            pars.add(this_name, **kwargs)\n        for j in pars:\n            logger.info(strm(\"fit param ---\", j))\n        logger.info(strm(pars))\n        self.fn = lambdify(\n            variable_symbols + parameter_symbols,\n            self.expression,\n            modules=[{\"ImmutableMatrix\": np.ndarray}, \"numpy\", \"scipy\"],\n        )\n        return pars\n\n\n    def residual(self, pars, x, data=None):\n        \"calculate the residual OR if data is None, return fake data\"\n        shift = pars[\"shift\"]\n        if abs(shift) > pi / 2:\n            shift = shift - sign(shift) * pi\n        model = self.fn(x, **pars.valuesdict())\n        if data is None:\n            return model\n        return model - data\n\n\n# }}}\nthisfit = myfitclass()\n# {{{ a lot of what's below depends on knowing what the shape and dimension labels of my data are, so define that here\nx_vals = linspace(0, 250, 1500)\nempty_data = nddata(x_vals, \"x\").copy(data=False)\n# }}}\n# {{{making sympy expression\nA, shift, period, decay, x = sp.symbols(\"A shift period decay x\")\nthisfit.expression = (A * sp.sin(shift + x / period) * sp.exp(-((x * decay) ** 2)))\nfit_params = thisfit.gen_from_expr(\n    empty_data,\n    guesses={\n        \"A\": dict(value=13.0, max=20, min=0.0),\n        \"shift\": dict(value=0.0, max=pi / 2.0, min=-pi / 2.0),\n        \"period\": dict(value=2, max=10),\n        \"decay\": dict(value=0.02, max=0.10, min=0.00),\n    },\n)\n# }}}\n\n\n# {{{ nddata to generate the fake data\n# {{{ create the \"true\" parameters for the fake data\ntrue_values = {\"A\": 14.0, \"period\": 5.4321, \"shift\": 0.12345, \"decay\": 0.01000}\np_true = Parameters()\nfor k, v in true_values.items():\n    p_true.add(k, value=v)\nlogger.info(strm(\"p_true is:\", p_true))\n# }}}\nmydata = empty_data.copy(data=False)\nmydata.data = thisfit.residual(p_true, mydata.getaxis(\"x\"))\nmydata.add_noise(2.8)\n# }}}\n# {{{ nddata of the guess\nguess = empty_data.copy(data=False)\nguess.data = thisfit.residual(fit_params, empty_data.getaxis(\"x\"))\n# }}}\n# {{{ run the fit and generate nddata\nout = minimize(\n    thisfit.residual, fit_params, args=(mydata.getaxis(\"x\"),), kws={\"data\": mydata.data}\n)\nfit = empty_data.copy(data=False)\nfit.data = thisfit.residual(out.params, empty_data.getaxis(\"x\"))\n# }}}\n\n# {{{ report the fit and generate the plot\nreport_fit(out, show_correl=True, modelpars=p_true)\nplot(mydata, \"ro\", label=\"data\")\nplot(fit, \"b\", alpha=0.5, label=\"fit\")\nplot(guess, \"g--\", label=\"guess\")\n# }}}\nplt.legend()\nplt.show()"
      ]
    }
  ],
  "metadata": {
    "kernelspec": {
      "display_name": "Python 3",
      "language": "python",
      "name": "python3"
    },
    "language_info": {
      "codemirror_mode": {
        "name": "ipython",
        "version": 3
      },
      "file_extension": ".py",
      "mimetype": "text/x-python",
      "name": "python",
      "nbconvert_exporter": "python",
      "pygments_lexer": "ipython3",
      "version": "3.8.3"
    }
  },
  "nbformat": 4,
  "nbformat_minor": 0
}