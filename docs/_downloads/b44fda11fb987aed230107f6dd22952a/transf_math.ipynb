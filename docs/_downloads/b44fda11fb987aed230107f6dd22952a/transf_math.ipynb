{
  "cells": [
    {
      "cell_type": "code",
      "execution_count": null,
      "metadata": {
        "collapsed": false
      },
      "outputs": [],
      "source": [
        "%matplotlib inline"
      ]
    },
    {
      "cell_type": "markdown",
      "metadata": {},
      "source": [
        "\n# transformation math\n"
      ]
    },
    {
      "cell_type": "code",
      "execution_count": null,
      "metadata": {
        "collapsed": false
      },
      "outputs": [],
      "source": [
        "from pylab import *\nfrom matplotlib import lines\nfrom matplotlib.transforms import IdentityTransform\nfig, (ax1,ax2) = subplots(2,1, figsize=(4,4))\nsubplots_adjust(left=0.2)\nx1,y1 = ax1.transAxes.transform(r_[0,1])\nx2,y2 = ax2.transAxes.transform(r_[0,0])\nx1-=40\nx_text = x1-10\nx2-=40\nx1,y1 = fig.transFigure.inverted().transform(r_[x1,y1])\nx_text,_ = fig.transFigure.inverted().transform(r_[x_text,0])\nx2,y2 = fig.transFigure.inverted().transform(r_[x2,y2])\nlineA = lines.Line2D([x1,x2],[y1,y2],\n        linewidth=3, color='r', transform=fig.transFigure,\n        clip_on=False)\nlineB = lines.Line2D([0,1],[0,1], linewidth=3, color='b', transform=ax1.transAxes,\n        clip_on=False)\ntext(x_text, 0.5, \"a label\", va='center', ha='right', rotation=90, transform=fig.transFigure, color='r')\nax1.add_line(lineA)\nax1.add_line(lineB)\nshow()"
      ]
    }
  ],
  "metadata": {
    "kernelspec": {
      "display_name": "Python 3",
      "language": "python",
      "name": "python3"
    },
    "language_info": {
      "codemirror_mode": {
        "name": "ipython",
        "version": 3
      },
      "file_extension": ".py",
      "mimetype": "text/x-python",
      "name": "python",
      "nbconvert_exporter": "python",
      "pygments_lexer": "ipython3",
      "version": "3.9.7"
    }
  },
  "nbformat": 4,
  "nbformat_minor": 0
}