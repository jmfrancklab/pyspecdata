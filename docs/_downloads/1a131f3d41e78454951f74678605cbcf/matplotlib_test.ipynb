{
  "cells": [
    {
      "cell_type": "code",
      "execution_count": null,
      "metadata": {
        "collapsed": false
      },
      "outputs": [],
      "source": [
        "%matplotlib inline"
      ]
    },
    {
      "cell_type": "markdown",
      "metadata": {},
      "source": [
        "# Matplotlib Example\n\nthis is a basic example that should generate images in\nsphinx, but still imports pyspecdata\n"
      ]
    },
    {
      "cell_type": "code",
      "execution_count": null,
      "metadata": {
        "collapsed": false
      },
      "outputs": [],
      "source": [
        "from pyspecdata import *\nfrom matplotlib.patches import Ellipse\nfrom numpy import *\nfrom matplotlib.pyplot import subplot, xlim, ylim\n\ndelta = 45.0 # degrees\n\nangles = arange(0, 360+delta, delta)\nells = [Ellipse((1, 1), 4, 2, a) for a in angles]\n\na = subplot(111, aspect='equal')\n\nfor e in ells:\n    e.set_clip_box(a.bbox)\n    e.set_alpha(0.1)\n    a.add_artist(e)\n\nxlim(-2, 4)\nylim(-1, 3)\n\nfigure()\n\nb = subplot(111,aspect='equal')\n\nplot(r_[0:10])\n\nshow()"
      ]
    }
  ],
  "metadata": {
    "kernelspec": {
      "display_name": "Python 3",
      "language": "python",
      "name": "python3"
    },
    "language_info": {
      "codemirror_mode": {
        "name": "ipython",
        "version": 3
      },
      "file_extension": ".py",
      "mimetype": "text/x-python",
      "name": "python",
      "nbconvert_exporter": "python",
      "pygments_lexer": "ipython3",
      "version": "3.8.3"
    }
  },
  "nbformat": 4,
  "nbformat_minor": 0
}