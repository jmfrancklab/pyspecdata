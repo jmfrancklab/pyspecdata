{
  "cells": [
    {
      "cell_type": "code",
      "execution_count": null,
      "metadata": {
        "collapsed": false
      },
      "outputs": [],
      "source": [
        "%matplotlib inline"
      ]
    },
    {
      "cell_type": "markdown",
      "metadata": {},
      "source": [
        "\n# Frequency and Time Shifting\n\nHere we show that relabeling an axis before or after a Fourier Transform\ngenerates the expected result.\n"
      ]
    },
    {
      "cell_type": "code",
      "execution_count": null,
      "metadata": {
        "collapsed": false
      },
      "outputs": [],
      "source": [
        "# from JF notebook sec:task4126\nfrom pylab import *\nfrom pyspecdata import *\nfl = figlist_var()\nt = r_[2.5:12:1024j]\ndata = nddata(empty_like(t),[-1],['t']).setaxis('t',t)\ndata.set_units('t','s') # set the units to s, which are automatically converted to Hz upon FT\ndata = data.fromaxis('t',lambda x: where(logical_and(x > 3,x < 6),1,0))\n\ndefault_plot_kwargs = dict(alpha = 0.5, linewidth = 2)\n\nfl.next('time domain -- positive starting point')\nfl.plot(data,**default_plot_kwargs)\nfl.plot(data.runcopy(imag),**default_plot_kwargs)\nexpand_y()\n\nfl.next('and shift $t_{start}\\\\rightarrow 0$')\ndata.ft('t',shift = True)\n#control = data.copy()\ndata.ft_clear_startpoints('t',t = 0,f = 'current')\ndata.ift('t')\nfl.plot(data,**default_plot_kwargs)\nfl.plot(data.runcopy(imag),**default_plot_kwargs)\nexpand_y()\n\n#fl.next('diagnose frequencies')\n#fl.plot(abs(control),label = 'control',**default_plot_kwargs)\n#data.ft('t')\n#fl.plot(abs(data),label = 'after ift',**default_plot_kwargs)\nt = r_[0:10:32j]\ndt = t[1] - t[0]\nt -= 3.5*dt # to ensure that no point passes through zero\ndata = nddata(empty_like(t),[-1],['t']).setaxis('t',t)\ndata.set_units('t','s') # set the units to s, which are automatically converted to Hz upon FT\ndata = data.fromaxis('t',lambda x: where(logical_and(x > 3,x < 6),1,0))\n\n\ndefault_plot_kwargs.update(dict(marker = 'o'))\n\nfl.next('strange time axis with nothing passing through zero')\nfl.plot(data,label = 'R: original',**default_plot_kwargs)\nfl.plot(data.runcopy(imag),label = \"I: original\",**default_plot_kwargs)\nexpand_y()\n\ndata.ft('t',shift = True)\ndata.ft_clear_startpoints('t',t = 0,f = 'current')\ndata.ift('t',pad = 1024)\ndefault_plot_kwargs.update(dict(marker = None))\nfl.plot(data,label = \"R: new\",**default_plot_kwargs)\nfl.plot(data.runcopy(imag),label = \"I: new\",**default_plot_kwargs)\nexpand_y()\n\nfl.show('ft_demo_weird_startpoints_151030.pdf')"
      ]
    }
  ],
  "metadata": {
    "kernelspec": {
      "display_name": "Python 3",
      "language": "python",
      "name": "python3"
    },
    "language_info": {
      "codemirror_mode": {
        "name": "ipython",
        "version": 3
      },
      "file_extension": ".py",
      "mimetype": "text/x-python",
      "name": "python",
      "nbconvert_exporter": "python",
      "pygments_lexer": "ipython3",
      "version": "3.8.3"
    }
  },
  "nbformat": 4,
  "nbformat_minor": 0
}