{
  "cells": [
    {
      "cell_type": "code",
      "execution_count": null,
      "metadata": {
        "collapsed": false
      },
      "outputs": [],
      "source": [
        "%matplotlib inline"
      ]
    },
    {
      "cell_type": "markdown",
      "metadata": {},
      "source": [
        "\n# Fourier Padding\n\nDemonstrates that we can zero fill (pad) either the Fourier Transform or the\nInverse Fourier Transform, and that everything works out as expected.\n"
      ]
    },
    {
      "cell_type": "code",
      "execution_count": null,
      "metadata": {
        "collapsed": false
      },
      "outputs": [],
      "source": [
        "# from JF notebook sec:fourier_padding_test\nfrom pylab import *\nfrom pyspecdata import *\nfl = figlist_var()\nt = r_[-3:10:1024j]\nt -= t[argmin(abs(t))] # to be sure that an index exactly equals zero\ndata = nddata(empty_like(t),[-1],['t']).setaxis('t',t)\ndata.set_units('t','s') # set the units to s, which are automatically converted to Hz upon FT\nsinc_width = 0.1\ndata = data.fromaxis('t',lambda x: where(x == 0,1,sin(x/sinc_width)/(x/sinc_width))) # `where` catches nan exception\n#{{{ add a simple Lorentzian peak\nR = 0.1\nf_center = 10.\nA = 0.25\ndata += A*data.fromaxis('t',lambda x: where(x>=0,exp(-2*pi*x*R+1j*2*pi*x*10.),0)) # `where` acts as heaviside\n#}}}\n\ndefault_plot_kwargs = dict(alpha = 0.5, linewidth = 2)\n\nfl.next('time domain')\nfl.plot(data,**default_plot_kwargs)\nfl.plot(data.runcopy(imag),**default_plot_kwargs)\n\nfl.next('A) frequency domain')\ndata.ft('t',shift = True)\nfl.plot(data,**default_plot_kwargs)\nfl.plot(data.runcopy(imag),**default_plot_kwargs)\n\nfl.next('B) ift (A) without any funny business')\ndata_save = data.copy()\ndata.ift('t')\nfl.plot(data,**default_plot_kwargs)\nfl.plot(data.runcopy(imag),**default_plot_kwargs)\n\nfl.next('C) frequency filter (A)\\nand generate (downsampled) ift')\ndata = data_save['t':(-10,25)]\ndata_save = data.copy()\ndata.ift('t')\nfl.plot(data,**default_plot_kwargs)\nfl.plot(data.runcopy(imag),**default_plot_kwargs)\n\nfl.next('D) zero-fill (1024) and ft (C)')\ndata.ft('t',pad = 1024)\ndata_zf_ft = data.copy()\nfl.plot(data,**default_plot_kwargs)\nfl.plot(data.runcopy(imag),**default_plot_kwargs)\n\nfl.next('E) pad and ift (D), then ft back')\ndata = data_zf_ft\ndata.ift('t',pad = 2048)\ndata.ft('t')\nfl.plot(data,**default_plot_kwargs)\nfl.plot(data.runcopy(imag),**default_plot_kwargs)\n\nfl.next('F) ift (C before ift),\\nzero-filling up to 1024')\ndata = data_save\ndata.ift('t',pad = 1024)\nfl.plot(data,**default_plot_kwargs)\nfl.plot(data.runcopy(imag),**default_plot_kwargs)\n\nfl.show('ft_demo_150820.pdf')"
      ]
    }
  ],
  "metadata": {
    "kernelspec": {
      "display_name": "Python 3",
      "language": "python",
      "name": "python3"
    },
    "language_info": {
      "codemirror_mode": {
        "name": "ipython",
        "version": 3
      },
      "file_extension": ".py",
      "mimetype": "text/x-python",
      "name": "python",
      "nbconvert_exporter": "python",
      "pygments_lexer": "ipython3",
      "version": "3.8.3"
    }
  },
  "nbformat": 4,
  "nbformat_minor": 0
}