{
  "cells": [
    {
      "cell_type": "markdown",
      "metadata": {},
      "source": [
        "\n# Calculation of the Covariance Matrix\nAfter rescaling plots, the covariance matrix is calculated\nand then plotted for a 2D Field experiment (spectra as a function\nof field with multiple collections or \"Times\")\n"
      ]
    },
    {
      "cell_type": "code",
      "execution_count": null,
      "metadata": {
        "collapsed": false
      },
      "outputs": [],
      "source": [
        "from pyspecdata import *\nfrom pylab import *\n\nfieldaxis = \"$B_0$\"\nexp_type = \"francklab_esr/alex\"\nwith figlist_var() as fl:\n    for filenum, (thisfile) in enumerate(\n        [(\"230504_3p8mM_TEMPOL_stb_wt_4x.DSC\")]\n    ):\n        d = find_file(thisfile, exp_type=exp_type)[\"harmonic\", 0]\n        d.set_units(fieldaxis, 'T').setaxis(fieldaxis, lambda x: x*1e-4)\n        d.rename(\"Time\", \"observations\")\n        d.reorder([\"observations\", fieldaxis])\n        fl.next(\"covariance in B domain\")\n        # we do this first, because if we were to ift to go to u domain and\n        # then ft back, we would introduce a complex component to our data\n        fl.image(d.C.cov_mat(\"observations\"))\n        d.ift(fieldaxis, shift=True)\n        fl.next(\"Covariance in U domain\")\n        fl.image(d.cov_mat(\"observations\")) # this time, do not spin up an extra copy of the data"
      ]
    }
  ],
  "metadata": {
    "kernelspec": {
      "display_name": "Python 3",
      "language": "python",
      "name": "python3"
    },
    "language_info": {
      "codemirror_mode": {
        "name": "ipython",
        "version": 3
      },
      "file_extension": ".py",
      "mimetype": "text/x-python",
      "name": "python",
      "nbconvert_exporter": "python",
      "pygments_lexer": "ipython3",
      "version": "3.11.2"
    }
  },
  "nbformat": 4,
  "nbformat_minor": 0
}