{
  "cells": [
    {
      "cell_type": "markdown",
      "metadata": {},
      "source": [
        "# Plotting Routines\n\nA simple demonstration of a multi-line *vs.*\nimage plot with\n[domain coloring](https://en.wikipedia.org/wiki/Domain_coloring), nested\ninside a figure list.\n\nWe specifically test a safety feature that doesn't allow image plots\nto have unevenly spaced axes,\nand show how to deal with this.\n\nWe also show how the equivalent of the color limits can be chosen by setting\nthe scaling of the image -- notice how data that exceeds the \"scaling\"\nparameter is masked out as white here.\n"
      ]
    },
    {
      "cell_type": "code",
      "execution_count": null,
      "metadata": {
        "collapsed": false
      },
      "outputs": [],
      "source": [
        "from pylab import *\nfrom pyspecdata import *\nrcParams['image.aspect'] = 'auto' # needed for sphinx gallery\n# sphinx_gallery_thumbnail_number = 3\n\n# let's make some fake inversion recovery data\nvd = nddata(r_[0,0.05,0.1,0.15,0.2,0.3,0.4,0.6,0.8,1.0,2.0,3.0,5.0],'vd')\nsignal_amp = 1-2*exp(-vd/1.0)\nt2 = nddata(r_[0:2:256j],'t2')\nsignal_amp *= exp(-t2/0.1)\nsignal_amp.add_noise(0.1)\nsignal_amp.set_units('s')\nsignal_amp.ft('t2', shift=True)\nwith figlist_var() as fl:\n    fl.next('1D data')\n    fl.plot(signal_amp.real) # without .real, newer versions of matplotlib raise a warning\n    fl.next(\"image plot\")\n    fl.image(signal_amp)\n    fig, ax_list = subplots(1,3, figsize=(20,5))\n    # Finally demonstrate how we can control the scale of different images\n    # relative to each other.\n    max_data = abs(signal_amp.data).max()\n    fl.next(\"different scales\",fig=fig)\n    for j,adjustment in enumerate([2,1,0.5]):\n        fl.image(signal_amp.C.setaxis('vd','#').set_units('vd','scan #'),\n                scaling=max_data*adjustment,\n                ax=ax_list[j])\n        ax_list[j].set_title(\"adjust by %0.1f\"%adjustment)"
      ]
    }
  ],
  "metadata": {
    "kernelspec": {
      "display_name": "Python 3",
      "language": "python",
      "name": "python3"
    },
    "language_info": {
      "codemirror_mode": {
        "name": "ipython",
        "version": 3
      },
      "file_extension": ".py",
      "mimetype": "text/x-python",
      "name": "python",
      "nbconvert_exporter": "python",
      "pygments_lexer": "ipython3",
      "version": "3.11.2"
    }
  },
  "nbformat": 4,
  "nbformat_minor": 0
}