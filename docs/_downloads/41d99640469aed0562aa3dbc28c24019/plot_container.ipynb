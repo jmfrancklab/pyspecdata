{
  "cells": [
    {
      "cell_type": "code",
      "execution_count": null,
      "metadata": {
        "collapsed": false
      },
      "outputs": [],
      "source": [
        "%matplotlib inline"
      ]
    },
    {
      "cell_type": "markdown",
      "metadata": {},
      "source": [
        "\n# Plot Container\n\nThis examples shows how you would *currently* generate a plot that shows\nprojections of a 2D image. \n\nWhile it does work, this is for development purposes -- while the figure list\ncurrently works well for collecting a series of individual matplotlib plots\nalong with text and generating a notebook presentation from them, things that\ninvolve multiple matplotlib Axes, like this one, are unnecessarily complicated.\n\nThe comments describe how the new proposed objects will work.\n"
      ]
    },
    {
      "cell_type": "code",
      "execution_count": null,
      "metadata": {
        "collapsed": false
      },
      "outputs": [],
      "source": [
        "from numpy import *\nfrom pyspecdata import *\nimport matplotlib.pyplot as plt\nfrom matplotlib.ticker import NullFormatter\nfrom matplotlib import transforms\n\n# {{{ from spine_placement_demo\ndef adjust_spines(ax, spines):\n    for loc, spine in ax.spines.items():\n        if loc in spines:\n            spine.set_position((\"outward\", 10))  # outward by 10 points\n            spine.set_smart_bounds(True)\n        else:\n            spine.set_color(\"none\")  # don't draw spine\n\n    # turn off ticks where there is no spine\n    if \"left\" in spines:\n        ax.yaxis.set_ticks_position(\"left\")\n    else:\n        # no yaxis ticks\n        ax.yaxis.set_ticks([])\n\n    if \"bottom\" in spines:\n        ax.xaxis.set_ticks_position(\"bottom\")\n    if \"top\" in spines:\n        ax.xaxis.set_ticks_position(\"top\")\n    else:\n        # no xaxis ticks\n        ax.xaxis.set_ticks([])\n\n\n# }}}\n\n# based off an example from matplotlib gallery\n\n# the random data\ntest_data = nddata(\n    random.normal(size=100 * 100) + 1j * random.normal(size=100 * 100),\n    [100, 100],\n    [\"x\", \"y\"],\n)\ntest_data.setaxis(\"x\", \"#\").setaxis(\"y\", \"#\")\ntest_data.set_units(\"x\", \"s\").set_units(\"y\", \"m\")\ntest_data.reorder(\"y\")\n\n# definitions for the axes\nleft, width = 0.12, 0.65\nbottom, height = 0.15, 0.65\npadding = 0.05\nbottom_side = bottom + height + padding\nleft_side = left + width + padding\n\nrect_scatter = [left, bottom, width, height]\nrect_top = [left, bottom_side, width, 1.0 - bottom_side - padding]\nrect_right = [left_side, bottom, 1.0 - left_side - padding, height]\n\nwith figlist_var() as fl:\n    # A lot of extra junk here b/c figure list not set up for multiple matplotlib axes.\n    #\n    # The new idea is to create a container, which in this case would be all\n    # three of these  axes together.\n    #\n    # When we drop data into the container, it would automatically decide what\n    # to do with it, based on its shape (here, 2D data would go in the center,\n    # while 1D data would go to one of the outside plots), and would directly\n    # use matplotlib commands\n    # -- so, there would be no need to pass the figure to \"next\", set the\n    # various titles to 0, etc.\n    #\n    # also, the container would just hold a list of data until its actually\n    # read to render the plots -- it would *then* do the human units thing, so\n    # that there were no human units error\n    #\n    # the domain overview plot would be 1 matplotlib axes object for each\n    # coherence pathway and would probably take advantage of this command --\n    # https://matplotlib.org/examples/axes_grid/simple_axesgrid2.html\n\n    # start with a rectangular Figure\n    fig = plt.figure(1, figsize=(9, 5.56))\n    axCentral = plt.axes(rect_scatter)\n    axRight = plt.axes(rect_right)\n    axTop = plt.axes(rect_top)\n    fl.next(\"test figure\", fig=fig, ax=axCentral)\n\n    fl.image(test_data, ax=axCentral, human_units=False)\n    axCentral.set_title(\"\")\n    fl.plot(test_data.C.sum(\"y\"), ax=axTop, human_units=False)\n    axTop.autoscale(enable=True, tight=True)  # axis tight\n    axTop.set_ylabel(\"\")\n    axTop.set_xlabel(\"\")\n    adjust_spines(axTop, [\"left\"])\n    base = axRight.transData\n    rot = transforms.Affine2D().rotate_deg(90)\n    fl.plot(test_data.C.sum(\"x\"), transform=(rot + base), ax=axRight, human_units=False)\n    axRight.set_ylabel(\"\")\n    axRight.set_xlabel(\"\")\n    axRight.autoscale(enable=True, tight=True)  # axis tight\n    adjust_spines(axRight, [\"bottom\"])"
      ]
    }
  ],
  "metadata": {
    "kernelspec": {
      "display_name": "Python 3",
      "language": "python",
      "name": "python3"
    },
    "language_info": {
      "codemirror_mode": {
        "name": "ipython",
        "version": 3
      },
      "file_extension": ".py",
      "mimetype": "text/x-python",
      "name": "python",
      "nbconvert_exporter": "python",
      "pygments_lexer": "ipython3",
      "version": "3.8.3"
    }
  },
  "nbformat": 4,
  "nbformat_minor": 0
}