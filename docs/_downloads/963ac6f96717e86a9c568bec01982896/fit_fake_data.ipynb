{
  "cells": [
    {
      "cell_type": "markdown",
      "metadata": {},
      "source": [
        "# Fitting Data (Nonlinear + Symbolic)\n\nThis example creates fake data with noise\nthen fits the exponential with the fitdata\nfunction.\n"
      ]
    },
    {
      "cell_type": "code",
      "execution_count": null,
      "metadata": {
        "collapsed": false
      },
      "outputs": [],
      "source": [
        "from pylab import *\nfrom pyspecdata import *\nimport sympy as sp\n\n# {{{ this is the contents of pylab.py -- works\n# need to go through and figure out which lines\n# are actually needed and which are not\n# -- I have already stripped out some\nfrom lmfit import Parameters, minimize\nfrom matplotlib.pyplot import figure, subplot, show, xlim, ylim, plot, gca\nfrom numpy import *  # I think it wasn't importing from numpy b/c it seems we're inside sphinx\n\n\ndef list_symbs(f):\n    # {{{ this is just to show all the parameters\n    list_symbs = []\n    for j, k in f.output().items():\n        s_repr = sp.latex(sp.Symbol(j))\n        list_symbs.append(f\"${s_repr} = {k:0.5g}$\")\n    list_symbs = \"\\n\".join(list_symbs)\n    # }}}\n    return list_symbs\n\n\n# }}}\nfl = figlist_var()\n# {{{creating a fake data recovery curve\ntau = nddata(r_[0:2:256j], \"tau\")\nfake_data = 102 * (1 - 2 * exp(-tau * 6.0))\nfake_data.add_noise(5.0)\n# }}}\n# {{{ define the expression of the functional form once, and then use it\n#     for both types of classes\nM0, Mi, R1, vd = sp.symbols(\"M_0 M_inf R_1 tau\", real=True)\nfunctional_form = Mi + (M0 - Mi) * sp.exp(-vd * R1)\n# }}}\nwith figlist_var() as fl:\n    fl.next(\"fit with guess\")\n    fl.plot(fake_data, \"o\", alpha=0.5, label=\"fake data\")\n\n    def show_guess_and_fit(fitinst, thislabel, x_text, y_text):\n        \"show the guess and the fit -- group as a function so we're sure we do this consistently\"\n        fl.next(\"fit with guess\")\n        fitinst.settoguess()\n        guess_line = fl.plot(\n            fitinst.eval(100), \":\", alpha=0.5, label=f\"{thislabel} guess\"\n        )\n        thiscolor = guess_line[0].get_color()\n        fitinst.fit()\n        print(\"-\" * 5, f\"Results for {thislabel}:\", \"-\" * 5)\n        print(f\"output for {thislabel}:\", fitinst.output())\n        print(f\"latex for {thislabel}:\", fitinst.latex())\n        T1 = 1.0 / fitinst.output(\"R_1\")\n        print(f\"$T_1$ for {thislabel}, {T1}\")\n        this_ls = \"-\"\n        if thislabel == \"fitdata\":\n            this_ls = \"--\"\n        fit_line = fl.plot(\n            fitinst.eval(100),\n            ls=this_ls,\n            color=thiscolor,\n            alpha=0.5,\n            label=f\"{thislabel} fit\",\n        )\n        ax = gca()\n        text(\n            x_text,\n            y_text,\n            f\"{thislabel} RESULT: %s\" % fitinst.latex(),\n            ha=\"center\",\n            va=\"center\",\n            color=thiscolor,\n            transform=ax.transAxes,\n        )\n        text(\n            x_text,\n            y_text,\n            (3 * \"\\n\") + list_symbs(fitinst),\n            ha=\"center\",\n            va=\"top\",\n            size=10,\n            color=thiscolor,\n            transform=ax.transAxes,\n        )\n\n    # {{{ use fitdata\n    fitdata_instance = fitdata(fake_data)\n    fitdata_instance.functional_form = functional_form\n    fitdata_instance.set_guess({M0: -500, Mi: 500, R1: 2})\n    show_guess_and_fit(fitdata_instance, \"fitdata\", 0.6, 0.5)\n    # }}}\n    # {{{ lmfitdata method\n    lmfitdata_instance = lmfitdata(fake_data)\n    lmfitdata_instance.functional_form = functional_form\n    lmfitdata_instance.set_guess(\n        M_0=dict(value=-500, max=0, min=-501),\n        M_inf=dict(value=500, max=501, min=0),\n        R_1=dict(value=1, max=10, min=1),\n    )\n    show_guess_and_fit(lmfitdata_instance, \"lmfitdata\", 0.6, 0.25)\n    # }}}"
      ]
    }
  ],
  "metadata": {
    "kernelspec": {
      "display_name": "Python 3",
      "language": "python",
      "name": "python3"
    },
    "language_info": {
      "codemirror_mode": {
        "name": "ipython",
        "version": 3
      },
      "file_extension": ".py",
      "mimetype": "text/x-python",
      "name": "python",
      "nbconvert_exporter": "python",
      "pygments_lexer": "ipython3",
      "version": "3.11.2"
    }
  },
  "nbformat": 4,
  "nbformat_minor": 0
}