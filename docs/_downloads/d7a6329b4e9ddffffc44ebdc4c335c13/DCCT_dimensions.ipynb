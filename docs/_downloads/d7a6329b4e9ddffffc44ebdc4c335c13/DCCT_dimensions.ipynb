{
  "cells": [
    {
      "cell_type": "markdown",
      "metadata": {},
      "source": [
        "# Using the DCCT function\n\nVisualize a simulated inversion recovery dataset utilizing the benefits of the\nDCCT plotting style.\n\nWe can image data in both the phase cycling domain, or the coherence transfer\ndomain. Artifacts can clearly be discerned from signal in the coherence\ntransfer domain as well as visualizing the inversion of phase using the domain\ncolored plotting style. \n\nHere, kwargs plotted in red (e.g. vert_label_space) illustrate the kwargs are\nin display coordinates while kwargs that are in blue (e.g. bbox and LHS_pad)\nillustrate the kwargs are in figure coordinates \n"
      ]
    },
    {
      "cell_type": "code",
      "execution_count": null,
      "metadata": {
        "collapsed": false
      },
      "outputs": [],
      "source": [
        "from pylab import rcParams\nimport matplotlib.pyplot as plt\nimport pyspecdata as psd\nfrom numpy.random import seed\nimport numpy as np\nfrom numpy import r_\nimport sympy as s\nfrom collections import OrderedDict\n\n\ndef plot_w_markup(x, y, thistext, thiscolor, thistransf):\n    if len(np.unique(x)) == 1:\n        endmarker = \"_\"\n        alignment = dict(\n            ha=\"left\",\n            va=\"center\",\n        )\n        thistext = \" \" + thistext  # make space between vert bar and text\n    else:\n        endmarker = \"|\"\n        alignment = dict(\n            ha=\"center\",\n            va=\"top\",\n        )\n    plt.plot(\n        x,\n        y,\n        thiscolor,\n        marker=endmarker,\n        linewidth=1,\n        clip_on=False,\n        transform=thistransf,\n    )\n    plt.text(\n        np.mean(x),\n        np.mean(y),\n        thistext,\n        color=thiscolor,\n        clip_on=False,\n        transform=thistransf,\n        **alignment,\n    )\n\n\nseed(2021)\nrcParams[\"image.aspect\"] = \"auto\"  # needed for sphinx gallery\n# sphinx_gallery_thumbnail_number = 1\npsd.init_logging(level=\"debug\")\n# {{{ kwargs for DCCT plot\nbbox = [0.05, 0.2, 0.85, 0.75]\nhoriz_label_spacer = 50\ngap = 0.1\n# }}}\n\nwith psd.figlist_var() as fl:\n    # provide the symbols that we use for the fake data:\n    t2, td, vd, ph1, ph2 = s.symbols(\"t2 td vd ph1 ph2\")\n    echo_time = 5e-3\n    data = psd.fake_data(\n        # Give the functional form of the fake data.\n        # This is an inversion recovery with\n        # T\u2081 of 0.2\n        # T\u2082* broadening of 50 Hz\n        # (echo maximum at echo_time)\n        # amplitude of 21\n        # resonance offset 100 Hz\n        21\n        * (1 - 2 * s.exp(-vd / 0.2))\n        * s.exp(+1j * 2 * s.pi * 100 * (t2) - abs(t2) * 50 * s.pi),\n        # next we give our dimensions with outer loops first, as they\n        # would be acquired on the spectrometer\n        # (ordering does matter, because fake_data applies a\n        # time-dependent resonance variation -- see fake_data doc.)\n        OrderedDict([\n            (\"vd\", psd.nddata(psd.r_[0:1:40j], \"vd\")),\n            (\"ph1\", psd.nddata(psd.r_[0, 2] / 4.0, \"ph1\")),\n            (\"ph2\", psd.nddata(psd.r_[0:4] / 4.0, \"ph2\")),\n            (\"t2\", psd.nddata(psd.r_[0:0.2:256j] - echo_time, \"t2\")),\n        ]),\n        {\"ph1\": 0, \"ph2\": 1},\n    )\n    # reorder into a format more suitable for plotting\n    data.reorder([\"ph1\", \"ph2\", \"vd\", \"t2\"])\n    fig = fl.next(\"Data\")  # Make figure object to place the DCCT\n    ax_list, trans_dict = psd.DCCT(\n        data,\n        fig,\n        horiz_label_spacer=horiz_label_spacer,\n        gap=gap,\n        bbox=bbox,\n    )\n\n    # {{{ add lines indicating kwargs\n    # {{{ bbox kwargs\n    plot_w_markup([0, bbox[0]], [0.1, 0.1], \"bbox[0]\", \"b\", fig.transFigure)\n    plot_w_markup(\n        [0.16, 0.16],\n        [0.0, bbox[1]],\n        \"bbox[1]\",\n        \"b\",\n        fig.transFigure,\n    )\n    plot_w_markup(\n        [bbox[0], bbox[2] + bbox[0]],\n        [0.97, 0.97],\n        \"bbox[2]\",\n        \"b\",\n        fig.transFigure,\n    )\n    plot_w_markup(\n        [0.93, 0.93],\n        [bbox[1], bbox[1] + bbox[3]],\n        \"bbox[3]\",\n        \"b\",\n        fig.transFigure,\n    )\n    plot_w_markup(\n        [-horiz_label_spacer, -2 * horiz_label_spacer],\n        [0.5, 0.5],\n        \"kwarg(horiz_label_space)\",\n        \"r\",\n        trans_dict[\"transXdispYfig\"],\n    )\n    plot_w_markup(\n        [0.0, -horiz_label_spacer],\n        [0.55, 0.55],\n        \"kwarg(horiz_label_space)\",\n        \"r\",\n        trans_dict[\"transXdispYfig\"],\n    )\n    plot_w_markup(\n        [0, 0],\n        [-30, +30],\n        \"60 pts bracketing origin\",\n        \"r\",\n        trans_dict[\"transDispTranslated\"],\n    )\n    # }}}\n    # {{{ gap\n    ax3_bbox = ax_list[3].get_position()\n    ax4_bbox = ax_list[4].get_position()\n    # {{{ this gives the relative size of the divisions between my plots for\n    #     the *specific* example here, where ph1 (outer) and ph2 (inner) are\n    #     the two outermost dimensions\n    divisions = (\n        [1] * (data.shape[\"ph2\"] - 1)\n        + [2] * (data.shape[\"ph1\"] - 1)\n        + [1] * (data.shape[\"ph2\"] - 1)\n    )\n    divisions = np.array(divisions) / sum(divisions)\n    small_division = divisions[0]\n    big_division = divisions[data.shape[\"ph2\"] - 1]\n    # }}}\n    plot_w_markup(\n        [(ax3_bbox.x0 + ax3_bbox.x1) / 2] * 2,\n        np.array([ax3_bbox.y1] * 2) + r_[0, gap * big_division],\n        r\"gap * big_division (see code) \",\n        \"b\",\n        fig.transFigure,\n    )\n    plot_w_markup(\n        [(ax4_bbox.x0 + ax4_bbox.x1) / 2] * 2,\n        np.array([ax4_bbox.y1] * 2) + r_[0, gap * small_division],\n        r\"gap * small_division (see code) \",\n        \"b\",\n        fig.transFigure,\n    )\n    # }}}\n    # }}}"
      ]
    }
  ],
  "metadata": {
    "kernelspec": {
      "display_name": "Python 3",
      "language": "python",
      "name": "python3"
    },
    "language_info": {
      "codemirror_mode": {
        "name": "ipython",
        "version": 3
      },
      "file_extension": ".py",
      "mimetype": "text/x-python",
      "name": "python",
      "nbconvert_exporter": "python",
      "pygments_lexer": "ipython3",
      "version": "3.11.2"
    }
  },
  "nbformat": 4,
  "nbformat_minor": 0
}