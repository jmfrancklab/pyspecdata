{
  "cells": [
    {
      "cell_type": "code",
      "execution_count": null,
      "metadata": {
        "collapsed": false
      },
      "outputs": [],
      "source": [
        "%matplotlib inline"
      ]
    },
    {
      "cell_type": "markdown",
      "metadata": {},
      "source": [
        "\n# Fourier Aliasing\n\nHere, we show that we can view the Fourier transform as an infinitely repeat\nset of replicates (aliases, *s.t.*\n$\u0428(\nu/t_{dw})*      ilde{f}(\nu)$) and view any of those aliases\n(of width $SW=1/t_{dw}$)\nthat we choose.\n"
      ]
    },
    {
      "cell_type": "code",
      "execution_count": null,
      "metadata": {
        "collapsed": false
      },
      "outputs": [],
      "source": [
        "# from JF noteobok sec:fourier_aliasing_test\nfrom pylab import *\nfrom pyspecdata import *\nfrom pyspecdata.fourier.ft_shift import _get_ft_dt\nfl = figlist_var()\nt = r_[-10:10:512j]\nt -= t[argmin(abs(t))] # to be sure that an index exactly equals zero\ndata = nddata(empty_like(t,dtype = complex128),[-1],['t']).setaxis('t',t)\ndata.set_units('t','s') # set the units to s, which are automatically converted to Hz upon FT\nsigma = 1.0\ndata = data.fromaxis('t',lambda x: complex128(exp(-x**2/2./sigma**2)))\ntest_non_integral = False\ndata.ft('t',shift = test_non_integral)# this is required for the non-integral shift!\nprint(data.other_info)\nprint(\"is it safe?\",data.get_ft_prop('t',['freq','not','aliased']))\nfl.next('ft')\nfl.plot(data, alpha=0.5)\nfl.plot(data.runcopy(imag), alpha=0.5)\nexpand_x()\nexpand_y()\nprint(\"what is the initial desired startpoint?\",data.get_prop(\"FT_start_time\"))\n\n# https://matplotlib.org/3.2.1/api/_as_gen/matplotlib.pyplot.plot.html\ndefault_plot_kwargs = dict(alpha=0.3, lw=2, mew=2, ms=8, marker='o', ls='none')\n\n\nprint(\"-----------------------\")\nprint(\"starting standard\")\nforplot = data.copy() # keep and re-use the gaussian\nprint(\"what is the initial desired startpoint?\",forplot.get_prop(\"FT_start_time\"))\nforplot.ift('t')\n#forplot = forplot['t':(-2,2)]\nt_start = forplot.getaxis('t')[0]\nfl.next('ift')\nfl.plot(forplot,label = '$t_{start}$: standard %0.2fs'%t_start,**default_plot_kwargs)\nif test_non_integral:\n    fl.next('ift -- non-integral')\n    fl.plot(forplot,label = '$t_{start}$: standard %0.2fs'%t_start,**default_plot_kwargs)\n#fl.plot(forplot.runcopy(imag),label = 'I: standard',**default_plot_kwargs)\ndt = diff(forplot.getaxis('t')[r_[0,1]]).item()\nprint(\"and what is the actual first t index (t_start) after I ift?: \", end=' ')\nprint(\"t_start is\",t_start,\"and dt is\",dt)\n\nsymbols = iter(['d','x','s','o'])\nfor this_integer in [2,-250,1000]:\n    print(\"-----------------------\")\n    print(\"starting integral shift for\",this_integer)\n    forplot = data.copy() # keep and re-use the gaussian\n    print(\"what is the initial desired startpoint?\",forplot.get_ft_prop('t',\"start_time\"))\n    new_startpoint = t_start + this_integer * dt\n    print(\"now, I try to reset the startpoint to\",new_startpoint)\n    print(\"my dt\",dt,\"_get_ft_dt\",_get_ft_dt(data,'t'))\n    forplot.ft_clear_startpoints('t',t = new_startpoint,f = 'current')\n    print(\"is it safe?\",data.get_ft_prop('t',['freq','not','aliased']))\n    fl.next('ift')\n    forplot.ift('t')\n    print(\"And the actual t startpoint after ift? \",forplot.getaxis('t')[0])\n    print(\"the difference between the two?\",forplot.getaxis('t')[0] - forplot.get_ft_prop('t',\"start_time\"))\n    default_plot_kwargs['marker'] = next(symbols)\n    fl.plot(forplot,label = '$t_{start}$: shifted by %0.0fpts $\\\\rightarrow$ %0.2fs'%(this_integer,new_startpoint),**default_plot_kwargs)\n    print(\"-----------------------\")\n    #fl.plot(forplot.runcopy(imag),label = 'I: integral shifted',**default_plot_kwargs)\nexpand_x()\nexpand_y()\n\nif test_non_integral:\n    symbols = iter(['d','x','s','o'])\n    for this_float in [0.5,0.25,10.75]:\n        print(\"-----------------------\")\n        print(\"starting non-integral shift for\",this_float)\n        forplot = data.copy() # keep and re-use the gaussian\n        print(\"what is the initial desired startpoint?\",forplot.get_ft_prop('t',\"start_time\"))\n        print(\"is it safe?\",data.get_ft_prop('t',['freq','not','aliased']))\n        new_startpoint = t_start + this_float * dt\n        print(\"now, I try to reset the startpoint to\",new_startpoint)\n        forplot.ft_clear_startpoints('t',t = new_startpoint,f = 'current')\n        fl.next('ift -- non-integral')\n        print(\"is it safe?\",data.get_ft_prop('t',['freq','not','aliased']))\n        forplot.ift('t')\n        print(\"And the actual t startpoint after ift? \",forplot.getaxis('t')[0])\n        print(\"the difference between the two?\",forplot.getaxis('t')[0] - forplot.get_ft_prop('t',\"start_time\"))\n        default_plot_kwargs['marker'] = next(symbols)\n        default_plot_kwargs['markersize'] = 10.0\n        fl.plot(forplot,label = '$t_{start}$: shifted by %0.0fpts $\\\\rightarrow$ %0.2fs'%(this_float,new_startpoint),**default_plot_kwargs)\n        #fl.plot(forplot.runcopy(imag),label = 'I: integral shifted',**default_plot_kwargs)\n    #{{{ these are manually set for a nice view of the peak of the gaussian\n    xlim(-1,1)\n    ylim(0.9,1.04)\n    #}}}\n\nfl.show('interpolation_test_150824.pdf')"
      ]
    }
  ],
  "metadata": {
    "kernelspec": {
      "display_name": "Python 3",
      "language": "python",
      "name": "python3"
    },
    "language_info": {
      "codemirror_mode": {
        "name": "ipython",
        "version": 3
      },
      "file_extension": ".py",
      "mimetype": "text/x-python",
      "name": "python",
      "nbconvert_exporter": "python",
      "pygments_lexer": "ipython3",
      "version": "3.8.3"
    }
  },
  "nbformat": 4,
  "nbformat_minor": 0
}