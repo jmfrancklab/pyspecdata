{
  "cells": [
    {
      "cell_type": "code",
      "execution_count": null,
      "metadata": {
        "collapsed": false
      },
      "outputs": [],
      "source": [
        "%matplotlib inline"
      ]
    },
    {
      "cell_type": "markdown",
      "metadata": {},
      "source": [
        "\n# Fit complex data\n\nUsing lmfitdata, fit a complex data set.\n"
      ]
    },
    {
      "cell_type": "code",
      "execution_count": null,
      "metadata": {
        "collapsed": false
      },
      "outputs": [],
      "source": [
        "import matplotlib.pyplot as plt\nfrom numpy import exp, linspace, pi, random, sign, sin\nimport sympy as sp\nfrom lmfit import Parameters, minimize\nfrom lmfit.printfuncs import report_fit\nimport numpy as np\nfrom pyspecdata import *\n\ninit_logging(level=\"debug\")\nnp.random.seed(15816)\nfl = figlist_var()\nA, R, nu, t = sp.symbols(\"A R nu t\", real=True)\n# create an empty dataset that we will drop the fake data into\nthisfit = lmfitdata(nddata(r_[-1:1:1001j], \"t\"))\nthisfit.functional_form = A * sp.exp(-1j*2*pi*nu*t) * sp.exp(-R*sp.pi*abs(t))\nonly_real = False # if you set this to True, it previously worked -- this\n#                   example demonstrates that this also works when set to False\nif only_real:\n    thisfit.functional_form = sp.re(thisfit.functional_form)\nlogger.info(strm(\"Functional Form:\", thisfit.functional_form))\n# {{{ create the \"true\" parameters for the fake data by pretending like\n#     the true values are a guess, and then outputting the guess data\ntrue_values = {\"A\": 14.0, \"R\": 10, \"nu\": 25}\nthisfit.set_guess(true_values)\nthisfit.settoguess()\nmydata = thisfit.eval()\nmydata.add_noise(0.1)\n# }}}\n# {{{Making guess data\nnewfit = lmfitdata(mydata)\nnewfit.functional_form = thisfit.functional_form\nnewfit.set_guess(\n    A=dict(value=13.0, max=20, min=0.0),\n    R=dict(value=3, max=1000, min=0),\n    nu=dict(value=20),\n)\nnewfit.settoguess()\nguess = newfit.eval()\n# }}}\n# {{{ run the fit and generate nddata\n# again, now that this is a class, why is this not handled by the fit method?\nnewfit.fit()\n# {{{plot the data with fits and guesses\nplt.subplot(211)\nplot(mydata, \"r\", label=\"data\")\nplot(newfit.eval(), \"b\", alpha=0.5, label=\"fit\")\nplot(guess, \"g--\", label=\"guess\")\nplt.ylabel('real components')\nplt.legend()\nplt.subplot(212)\nplot(mydata.imag, \"r\", label=\"data\")\nplot(newfit.eval().imag, \"b\", alpha=0.5, label=\"fit\")\nplot(guess.imag, \"g--\", label=\"guess\")\nplt.ylabel('imag components')\nplt.legend()\n# }}}\nplt.show()"
      ]
    }
  ],
  "metadata": {
    "kernelspec": {
      "display_name": "Python 3",
      "language": "python",
      "name": "python3"
    },
    "language_info": {
      "codemirror_mode": {
        "name": "ipython",
        "version": 3
      },
      "file_extension": ".py",
      "mimetype": "text/x-python",
      "name": "python",
      "nbconvert_exporter": "python",
      "pygments_lexer": "ipython3",
      "version": "3.10.9"
    }
  },
  "nbformat": 4,
  "nbformat_minor": 0
}