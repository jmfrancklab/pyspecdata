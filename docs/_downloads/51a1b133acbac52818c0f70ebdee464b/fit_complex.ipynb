{
  "cells": [
    {
      "cell_type": "markdown",
      "metadata": {},
      "source": [
        "\n# Fit complex data\n\nUsing lmfitdata, fit a complex data set.\n"
      ]
    },
    {
      "cell_type": "code",
      "execution_count": null,
      "metadata": {
        "collapsed": false
      },
      "outputs": [],
      "source": [
        "import matplotlib.pyplot as plt\nfrom numpy import exp, linspace, pi, random, sign, sin\nimport sympy as sp\nfrom lmfit import Parameters, minimize\nfrom lmfit.printfuncs import report_fit\nimport numpy as np\nfrom pyspecdata import *\n\ninit_logging(level=\"debug\")\nnp.random.seed(15816)\nA, R, nu, t = sp.symbols(\"A R nu t\", real=True)\n# create an empty dataset that we will drop the fake data into\nthisfit = lmfitdata(nddata(r_[-1:1:1001j], \"t\"))\nthisfit.functional_form = (\n    A * sp.exp(-1j * 2 * pi * nu * t) * sp.exp(-R * sp.pi * abs(t))\n)\nlogger.info(strm(\"Functional Form:\", thisfit.functional_form))\n# {{{ if you set only_real to True, it previously worked -- this\n#     example demonstrates that this also works when set to False\nonly_real = False\nif only_real:\n    thisfit.functional_form = sp.re(thisfit.functional_form)\n# }}}\n# {{{ create the \"true\" parameters for the fake data by pretending like\n#     the true values are a guess, and then outputting the guess data\ntrue_values = {\"A\": 14.0, \"R\": 10, \"nu\": 25}\nthisfit.set_guess(true_values)\nmydata = thisfit.settoguess().eval()\nmydata.add_noise(0.1)\nfig, (ax1, ax2) = plt.subplots(2, 1)\nplot(mydata, \"r\", label=\"data\", ax=ax1)\nplot(mydata.imag, \"r\", label=\"data\", ax=ax2)\n# }}}\n# {{{ set up the fit object using the \"simulated\" data\nnewfit = lmfitdata(mydata.C)\nnewfit.functional_form = thisfit.functional_form\nnewfit.set_guess(\n    A=dict(value=13.0, max=20, min=0.0),\n    R=dict(value=3, max=1000, min=0),\n    nu=dict(value=20),\n)\n# }}}\n# {{{ show the guess\nguess = newfit.settoguess().eval()\n# }}}\n# {{{ run the fit and generate nddata\n# again, now that this is a class, why is this not handled by the fit method?\nnewfit.fit()\n# {{{plot the data with fits and guesses\nplot(newfit.eval(), \"b\", alpha=0.5, label=\"fit\", ax=ax1)\nplot(guess, \"g--\", label=\"guess\", ax=ax1)\nplt.ylabel(\"real components\")\nplt.legend()\nplot(newfit.eval().imag, \"b\", alpha=0.5, label=\"fit\", ax=ax2)\nplot(guess.imag, \"g--\", label=\"guess\", ax=ax2)\nplt.ylabel(\"imag components\")\nplt.legend()\n# }}}\nplt.show()"
      ]
    }
  ],
  "metadata": {
    "kernelspec": {
      "display_name": "Python 3",
      "language": "python",
      "name": "python3"
    },
    "language_info": {
      "codemirror_mode": {
        "name": "ipython",
        "version": 3
      },
      "file_extension": ".py",
      "mimetype": "text/x-python",
      "name": "python",
      "nbconvert_exporter": "python",
      "pygments_lexer": "ipython3",
      "version": "3.11.2"
    }
  },
  "nbformat": 4,
  "nbformat_minor": 0
}