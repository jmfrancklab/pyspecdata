{
  "cells": [
    {
      "cell_type": "markdown",
      "metadata": {},
      "source": [
        "\n# Simple Cary UV-Vis loading\n\nA simple demo of loading Cary UV-Vis data.\nThis example just loads a file and\nplots all the spectra in a file, without embellishment\n\nHere we have a file called Pure_T177R1a_pR_210615.BSW on our computer.\nThere are three requirements for where this file must be stored:\n\n-   It **must** be stored in a folder called \"proteorhodopsin\" that's itself\n    inside a folder called \"UV_Vis\" (as indicated by the ``exp_type`` argument).  Typically, this will be achieved by just\n    cloning/syncing the entire \"UV_Vis\" directory of data shared by your lab on\n    google drive, etc, etc.\n-   Our pyspecdata config file (``~/.pyspecdata`` on Linux/Mac or ``~/_pyspecdata``\n    on Windows) must know about this \"UV_Vis\" directory.\n    If not, you can use the ``pyspecdata_register_dir`` command on the command line\n    (see :func:`~pyspecdata.datadir.register_directory`).\n-   The name of the file itself must contain the string \"T177R1a_pR_210615\" \u2192\n    note that you don't need to specify the whole file name, just enough for it\n    to be unique.\n"
      ]
    },
    {
      "cell_type": "code",
      "execution_count": null,
      "metadata": {
        "collapsed": false
      },
      "outputs": [],
      "source": [
        "from pylab import *\nfrom pyspecdata import *\ndata = find_file('T177R1a_pR_210615',\n        exp_type='UV_Vis/proteorhodopsin')\nprint(\"the experiments present in this file are:\",data.keys())\nwith figlist_var() as fl:\n    fl.next(\"UV data\")\n    for j in data.keys():\n        fl.plot(data[j], label=j, alpha=0.5)"
      ]
    }
  ],
  "metadata": {
    "kernelspec": {
      "display_name": "Python 3",
      "language": "python",
      "name": "python3"
    },
    "language_info": {
      "codemirror_mode": {
        "name": "ipython",
        "version": 3
      },
      "file_extension": ".py",
      "mimetype": "text/x-python",
      "name": "python",
      "nbconvert_exporter": "python",
      "pygments_lexer": "ipython3",
      "version": "3.11.2"
    }
  },
  "nbformat": 4,
  "nbformat_minor": 0
}