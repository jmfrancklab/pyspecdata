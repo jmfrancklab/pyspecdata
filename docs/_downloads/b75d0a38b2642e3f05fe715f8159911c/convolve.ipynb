{
  "cells": [
    {
      "cell_type": "markdown",
      "metadata": {},
      "source": [
        "\n# Convolution\nDemonstrate a convolution.\nIn particular, the convolution wasn't previously aware of the time axis, but\nnow it is.\n"
      ]
    },
    {
      "cell_type": "code",
      "execution_count": null,
      "metadata": {
        "collapsed": false
      },
      "outputs": [],
      "source": [
        "from pylab import *\nfrom pyspecdata import *\n\nfig, (ax_time, ax_freq) = subplots(2, 1)\nt = nddata(r_[0:0.5:1e-3], \"t2\")  # 1 kHz SW with a freq. resolution of 1/0.5=2 Hz\nfake_data = exp(1j * 2 * pi * 100 * t - 10 * t * pi)  # 10 Hz wide line at 100 Hz offset\nfake_data.add_noise(0.1).set_units(\"t2\", \"s\")\nplot(fake_data, ax=ax_time, alpha=0.5, label=\"raw data\")\nax_time.set_title(\"time domain\")\nax_freq.set_title(\"frequency domain\")\nfake_data.ft(\"t2\", shift=True)\nassert fake_data.get_ft_prop(\"t2\", \"dt\") == 1e-3\nplot(fake_data, ax=ax_freq, alpha=0.5, label=\"raw data\")\n# note that the convolution is done in the\n# frequency domain\nfake_data.convolve(\"t2\", 10 / 2.355)\nplot(fake_data, ax=ax_freq, alpha=0.5, label=\"after convolve\")\nfake_data.ift(\"t2\")\nplot(fake_data, ax=ax_time, alpha=0.5, label=\"after convolve\")\nax_time.legend(**dict(bbox_to_anchor=(1.05, 1), loc=2, borderaxespad=0.0))\nax_freq.legend(**dict(bbox_to_anchor=(1.05, 1), loc=2, borderaxespad=0.0))\nfig.tight_layout()\nshow()"
      ]
    }
  ],
  "metadata": {
    "kernelspec": {
      "display_name": "Python 3",
      "language": "python",
      "name": "python3"
    },
    "language_info": {
      "codemirror_mode": {
        "name": "ipython",
        "version": 3
      },
      "file_extension": ".py",
      "mimetype": "text/x-python",
      "name": "python",
      "nbconvert_exporter": "python",
      "pygments_lexer": "ipython3",
      "version": "3.11.2"
    }
  },
  "nbformat": 4,
  "nbformat_minor": 0
}