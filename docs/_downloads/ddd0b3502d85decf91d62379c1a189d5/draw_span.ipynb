{
  "cells": [
    {
      "cell_type": "code",
      "execution_count": null,
      "metadata": {
        "collapsed": false
      },
      "outputs": [],
      "source": [
        "%matplotlib inline"
      ]
    },
    {
      "cell_type": "markdown",
      "metadata": {},
      "source": [
        "\n# draw a span\n"
      ]
    },
    {
      "cell_type": "code",
      "execution_count": null,
      "metadata": {
        "collapsed": false
      },
      "outputs": [],
      "source": [
        "from pylab import *\nfrom matplotlib import lines\nfrom matplotlib.transforms import IdentityTransform\nfig, (ax1,ax2,ax3,ax4) = subplots(4,1, figsize=(4,4))\nsubplots_adjust(left=0.2)\ndef draw_span(ax1, ax2, label, allow_for_text=10, allow_for_ticks=40):\n    x1,y1 = ax1.transAxes.transform(r_[0,1])\n    x2,y2 = ax2.transAxes.transform(r_[0,0])\n    x1-=allow_for_ticks\n    x_text = x1-allow_for_text\n    x2-=allow_for_ticks\n    x1,y1 = fig.transFigure.inverted().transform(r_[x1,y1])\n    x_text,_ = fig.transFigure.inverted().transform(r_[x_text,0])\n    x2,y2 = fig.transFigure.inverted().transform(r_[x2,y2])\n    lineA = lines.Line2D([x1,x2],[y1,y2],\n            linewidth=3, color='r', transform=fig.transFigure,\n            clip_on=False)\n    text(x_text, (y2+y1)/2, label, va='center', ha='right', rotation=90, transform=fig.transFigure, color='r')\n    fig.add_artist(lineA)\ndraw_span(ax1,ax3,\"a label\")\nshow()"
      ]
    }
  ],
  "metadata": {
    "kernelspec": {
      "display_name": "Python 3",
      "language": "python",
      "name": "python3"
    },
    "language_info": {
      "codemirror_mode": {
        "name": "ipython",
        "version": 3
      },
      "file_extension": ".py",
      "mimetype": "text/x-python",
      "name": "python",
      "nbconvert_exporter": "python",
      "pygments_lexer": "ipython3",
      "version": "3.9.7"
    }
  },
  "nbformat": 4,
  "nbformat_minor": 0
}