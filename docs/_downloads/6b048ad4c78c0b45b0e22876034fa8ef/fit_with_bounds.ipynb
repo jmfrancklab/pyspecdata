{
  "cells": [
    {
      "cell_type": "markdown",
      "metadata": {},
      "source": [
        "\n# Fit Using Bounds\n\nAdapt one of the examples from lmfit to use sympy and pyspecdata.\nEventually, we want to use parts of this in the base library, so we don't have\nto retype them every time.\n"
      ]
    },
    {
      "cell_type": "code",
      "execution_count": null,
      "metadata": {
        "collapsed": false
      },
      "outputs": [],
      "source": [
        "import matplotlib.pyplot as plt\nfrom numpy import exp, linspace, pi, random, sign, sin\nimport sympy as sp\nfrom lmfit import Parameters, minimize\nfrom lmfit.printfuncs import report_fit\nimport numpy as np\nfrom pyspecdata import *\n\ninit_logging(level=\"debug\")\nnp.random.seed(15816)\nfl = figlist_var()\nA, shift, period, decay, x = sp.symbols(\"A shift period decay x\", real=True)\n# create an empty dataset that we will drop the fake data into\nthisfit = lmfitdata(nddata(r_[0:250:1500j], \"x\"))\nthisfit.functional_form = (\n    A * sp.sin(shift + x / period) * sp.exp(-((x * decay) ** 2))\n)\nlogger.info(strm(\"Functional Form:\", thisfit.functional_form))\n# {{{ create the \"true\" parameters for the fake data by pretending like\n#     the true values are a guess, and then outputting the guess data\ntrue_values = {\"A\": 14.0, \"period\": 5.4321, \"shift\": 0.12345, \"decay\": 0.01000}\nthisfit.set_guess(true_values)\nthisfit.settoguess()\nmydata = thisfit.eval()\nmydata.add_noise(2.8)\n# }}}\n# {{{Making guess data\nnewfit = lmfitdata(mydata)\nnewfit.functional_form = thisfit.functional_form\nnewfit.set_guess(\n    A=dict(value=13.0, max=20, min=0.0),\n    shift=dict(value=0.0, max=pi / 2.0, min=-pi / 2.0),\n    period=dict(value=2, max=10),\n    decay=dict(value=0.02, max=0.10, min=0.00),\n)\nnewfit.settoguess()\nguess = newfit.eval(100)\n# }}}\n# {{{ run the fit and generate nddata\n# again, now that this is a class, why is this not handled by the fit method?\nnewfit.fit()\n# {{{plot the data with fits and guesses\nplot(mydata, \"ro\", label=\"data\")\nplot(newfit.eval(100), \"b\", alpha=0.5, label=\"fit\")\nplot(guess, \"g--\", label=\"guess\")\n# }}}\nplt.legend()\nplt.show()"
      ]
    }
  ],
  "metadata": {
    "kernelspec": {
      "display_name": "Python 3",
      "language": "python",
      "name": "python3"
    },
    "language_info": {
      "codemirror_mode": {
        "name": "ipython",
        "version": 3
      },
      "file_extension": ".py",
      "mimetype": "text/x-python",
      "name": "python",
      "nbconvert_exporter": "python",
      "pygments_lexer": "ipython3",
      "version": "3.11.2"
    }
  },
  "nbformat": 4,
  "nbformat_minor": 0
}