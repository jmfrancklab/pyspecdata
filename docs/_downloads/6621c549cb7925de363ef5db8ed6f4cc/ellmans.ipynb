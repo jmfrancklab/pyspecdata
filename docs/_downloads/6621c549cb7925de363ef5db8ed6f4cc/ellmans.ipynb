{
  "cells": [
    {
      "cell_type": "markdown",
      "metadata": {},
      "source": [
        "\n# Manipulation of UV-Vis data\n\nAfter you've looked at the simple UV-Vis example, this one shows how you can\nmanipulate UV-Vis data.\n"
      ]
    },
    {
      "cell_type": "code",
      "execution_count": null,
      "metadata": {
        "collapsed": false
      },
      "outputs": [],
      "source": [
        "from pylab import *\nfrom pyspecdata import *\nfrom itertools import cycle\ncolor_cycle = cycle(['#1f77b4', '#ff7f0e', '#2ca02c',\n    '#d62728', '#9467bd', '#8c564b', '#e377c2',\n    '#7f7f7f', '#bcbd22', '#17becf'])\n#init_logging('debug')\ndata = find_file('200703_Ellman_before_SL.DSW',\n    exp_type='UV_Vis/Ellmans_Assay')\nprint(\"the experiments present in this file are:\",data.keys())\nwith figlist_var() as fl:\n    fl.next(\"UV data\")\n    for k,thisspectrum in data.items():\n        fl.plot(thisspectrum,\n                alpha=0.5,\n                label=k)\n    ylabel(thisspectrum.get_units())\n    ylim((-0.05,1))\n    fl.next('subtract')\n    subdata = {'TCM':data['TCM w_ellman'] - data['TCM w_o'],\n            '136C':data['TCMI36C_w_ellman'] - data['TCMI36C w_o'],\n            }\n    for k,d in subdata.items():\n        thiscolor = next(color_cycle)\n        fl.plot(d,\n                alpha=0.5,\n                color=thiscolor,\n                label=k)\n        fl.plot(d - data['rxn buff w_ellman'],\n                ':',\n                alpha=0.5,\n                color=thiscolor,\n                label='%s, subtracted'%k)\n    ylabel(d.get_units())\n    gridandtick(gca())\n    print(\"now I'm going to try a DSW file\")\n    data = find_file('Ras_Stability4',\n            exp_type='UV_Vis/Ras_stability/200803_RT')\n    print(\"the experiments present in this file are:\",data.keys())\n    fl.next(\"kinetics data\")\n    for k,thisspectrum in data.items():\n        fl.plot(thisspectrum,\n                alpha=0.5,\n                label=k)\n    ylabel(thisspectrum.get_units())\n    ylim((-0.05,1))\n    gridandtick(gca())"
      ]
    }
  ],
  "metadata": {
    "kernelspec": {
      "display_name": "Python 3",
      "language": "python",
      "name": "python3"
    },
    "language_info": {
      "codemirror_mode": {
        "name": "ipython",
        "version": 3
      },
      "file_extension": ".py",
      "mimetype": "text/x-python",
      "name": "python",
      "nbconvert_exporter": "python",
      "pygments_lexer": "ipython3",
      "version": "3.11.2"
    }
  },
  "nbformat": 4,
  "nbformat_minor": 0
}