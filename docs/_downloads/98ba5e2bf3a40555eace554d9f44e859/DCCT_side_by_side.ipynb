{
  "cells": [
    {
      "cell_type": "markdown",
      "metadata": {},
      "source": [
        "\n# Arranging Multiple DCCT Plots\n\nVisualize a simulated inversion recovery dataset\nutilizing the benefits of the DCCT plotting style.\n\nWe can image data in both the phase cycling domain,\nas well as the coherence transfer domain. Artifacts can\nclearly be discerned from signal in the coherence transfer\ndomain as well as visualizing the inversion of phase \nusing the domain colored plotting style.\n"
      ]
    },
    {
      "cell_type": "code",
      "execution_count": null,
      "metadata": {
        "collapsed": false
      },
      "outputs": [],
      "source": [
        "from pylab import rcParams\nimport pyspecdata as psd\nfrom numpy.random import seed\nimport sympy as s\nfrom collections import OrderedDict\nfrom matplotlib.gridspec import GridSpec\n\nseed(2021)\nrcParams[\"image.aspect\"] = \"auto\"  # needed for sphinx gallery\n# sphinx_gallery_thumbnail_number = 1\npsd.init_logging(level=\"debug\")\n\nwith psd.figlist_var() as fl:\n    # provide the symbols that we use for the fake data:\n    t2, td, vd, ph1, ph2 = s.symbols(\"t2 td vd ph1 ph2\")\n    echo_time = 5e-3\n    data = psd.fake_data(\n        # Give the functional form of the fake data.\n        # This is an inversion recovery with\n        # T\u2081 of 0.2\n        # T\u2082* broadening of 50 Hz\n        # (echo maximum at echo_time)\n        # amplitude of 21\n        # resonance offset 100 Hz\n        21\n        * (1 - 2 * s.exp(-vd / 0.2))\n        * s.exp(+1j * 2 * s.pi * 100 * (t2) - abs(t2) * 50 * s.pi),\n        # next we give our dimensions with outer loops first, as they\n        # would be acquired on the spectrometer\n        # (ordering does matter, because fake_data applies a\n        # time-dependent resonance variation -- see fake_data doc.)\n        OrderedDict([\n            (\"vd\", psd.nddata(psd.r_[0:1:40j], \"vd\")),\n            (\"ph1\", psd.nddata(psd.r_[0, 2] / 4.0, \"ph1\")),\n            (\"ph2\", psd.nddata(psd.r_[0:4] / 4.0, \"ph2\")),\n            (\"t2\", psd.nddata(psd.r_[0:0.2:256j] - echo_time, \"t2\")),\n        ]),\n        {\"ph1\": 0, \"ph2\": 1},\n    )\n    # reorder into a format more suitable for plotting\n    data.reorder([\"ph1\", \"ph2\", \"vd\", \"t2\"])\n    fig = fl.next(\"Data\")  # Make figure object to place the DCCT\n    gs = GridSpec(1, 2, figure=fig, left=0.05, right=0.95)\n    psd.DCCT(\n        data,\n        fig,\n        title=\"Time Domain\",\n        bbox=gs[0, 0],\n    )\n    data.ft(\"t2\")\n    psd.DCCT(\n        data,\n        fig,\n        title=\"Frequency Domain\",\n        bbox=gs[0, 1],\n    )"
      ]
    }
  ],
  "metadata": {
    "kernelspec": {
      "display_name": "Python 3",
      "language": "python",
      "name": "python3"
    },
    "language_info": {
      "codemirror_mode": {
        "name": "ipython",
        "version": 3
      },
      "file_extension": ".py",
      "mimetype": "text/x-python",
      "name": "python",
      "nbconvert_exporter": "python",
      "pygments_lexer": "ipython3",
      "version": "3.11.2"
    }
  },
  "nbformat": 4,
  "nbformat_minor": 0
}