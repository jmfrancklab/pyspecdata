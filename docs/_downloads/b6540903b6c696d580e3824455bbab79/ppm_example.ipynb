{
  "cells": [
    {
      "cell_type": "markdown",
      "metadata": {},
      "source": [
        "\n# ppm Example\n\nDemonstrates how to convert from offset in Hz to \nppm scale\n"
      ]
    },
    {
      "cell_type": "code",
      "execution_count": null,
      "metadata": {
        "collapsed": false
      },
      "outputs": [],
      "source": [
        "from pylab import *\nfrom pyspecdata import *\n#pull parameters from RM1_sept30_1H_211001 expno 1\n\n# make peaks on a frequency axis\nx = nddata(r_[0:6.8157439:32768j], \"t2\")\nx.set_units(\"t2\", \"s\")\n\n# generate time-domain signal\nSW_h = 1./(x.getaxis('t2')[1] - x.getaxis('t2')[0])\nsignal = 0 * x  # create an array of zeros that's the right shape\nSFO1 = 400.1307334\nBF1 = 400.13\nSF = 400.1301846\nTMS_shift = (SF-SFO1)*1e6\nfor A, nu, R in [\n    (0.3, TMS_shift, 0.04),\n    (1, 25, 0.08),\n    (1, 50, 1.2),\n    (1, 20, 0.45),\n    (1, 750, 1.2),\n    (1, 10, 0.08),\n]:\n    #nu = SFO1 + nu # it's really unclear why this is done!\n    signal += A * exp(1j * 2 * pi * nu * x - x / R)\nsignal.set_units(\"t2\", \"s\")\nsignal.ft(\"t2\", shift=True)\n\nOFFSET = (SFO1/SF-1) * 1.0e6 + 0.5 * SW_h * SFO1/SF\nsignal.set_prop('acq',{'SFO1':SFO1,'SW_h':SW_h})\nsignal.set_prop('proc',{'SF':SF,\n    'OFFSET':OFFSET})\n\n# Copy of signal to demonstrate truncation\nsignal_sliced = signal.C\n\nwith figlist_var() as fl:\n    fl.next(\"full spectrum, Hz\")\n    fl.plot(signal)\n    signal.to_ppm()\n    fl.next(\"full spectrum, ppm\")\n    fl.plot(signal)\n    signal_sliced = signal_sliced[\"t2\":(0.2e3, 1.4e3)]\n    fl.next(\"sliced spectrum, Hz\")\n    fl.plot(signal_sliced)\n    signal_sliced.to_ppm()\n    fl.next(\"sliced spectrum, ppm\")\n    fl.plot(signal_sliced)"
      ]
    }
  ],
  "metadata": {
    "kernelspec": {
      "display_name": "Python 3",
      "language": "python",
      "name": "python3"
    },
    "language_info": {
      "codemirror_mode": {
        "name": "ipython",
        "version": 3
      },
      "file_extension": ".py",
      "mimetype": "text/x-python",
      "name": "python",
      "nbconvert_exporter": "python",
      "pygments_lexer": "ipython3",
      "version": "3.11.2"
    }
  },
  "nbformat": 4,
  "nbformat_minor": 0
}