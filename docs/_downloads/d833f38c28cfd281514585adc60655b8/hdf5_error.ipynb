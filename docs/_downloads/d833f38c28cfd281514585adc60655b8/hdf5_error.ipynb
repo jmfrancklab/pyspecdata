{
  "cells": [
    {
      "cell_type": "code",
      "execution_count": null,
      "metadata": {
        "collapsed": false
      },
      "outputs": [],
      "source": [
        "%matplotlib inline"
      ]
    },
    {
      "cell_type": "markdown",
      "metadata": {},
      "source": [
        "# HDF5 error message\n\nTrying to load an HDF5 file without an expno generates an error with a list of possible node names\n"
      ]
    },
    {
      "cell_type": "code",
      "execution_count": null,
      "metadata": {
        "collapsed": false
      },
      "outputs": [],
      "source": [
        "from pyspecdata import *\ntry:\n    d = find_file(\"210603_EtOH_cap_probe_COSY\", exp_type=\"ODNP_NMR_comp/COSY\")\nexcept ValueError as e:\n    # NOTE: we use a try-except here so that the example doesn't show up as\n    # \"broken\" -- typically, you would just use the command inside the \"try\"\n    # command as-is\n    print(\"this will print the error message:\\n\\n\")\n    print(e)"
      ]
    }
  ],
  "metadata": {
    "kernelspec": {
      "display_name": "Python 3",
      "language": "python",
      "name": "python3"
    },
    "language_info": {
      "codemirror_mode": {
        "name": "ipython",
        "version": 3
      },
      "file_extension": ".py",
      "mimetype": "text/x-python",
      "name": "python",
      "nbconvert_exporter": "python",
      "pygments_lexer": "ipython3",
      "version": "3.9.7"
    }
  },
  "nbformat": 4,
  "nbformat_minor": 0
}