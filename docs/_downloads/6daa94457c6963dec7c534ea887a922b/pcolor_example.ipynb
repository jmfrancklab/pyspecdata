{
  "cells": [
    {
      "cell_type": "markdown",
      "metadata": {},
      "source": [
        "\n# Unevenly spaced data\n\nBasic demonstration of pcolor, which can deal with unevenly spaced data\n\n<div class=\"alert alert-info\"><h4>Note</h4><p>Right now, we just do this with real/imaginary,\n    but in principal, it should be easily\n    possible to extend this to use domain\n    coloring (and to use it in the main DCCT\n    method)</p></div>\n"
      ]
    },
    {
      "cell_type": "code",
      "execution_count": null,
      "metadata": {
        "collapsed": false
      },
      "outputs": [],
      "source": [
        "import pyspecdata as psp\nimport matplotlib.pylab as plt\nfrom numpy import r_\n\nx = psp.nddata(r_[-5, -2, -1, -0.5, 0, 0.5, 5], \"x\")\ny = psp.nddata(3 * r_[-5, -2, -1, -0.5, 0, 0.5, 5], \"y\")\nz = plt.exp(-((y - 2) ** 2) - (x - 0) ** 2 / 2) + 1j * x\nplt.figure()\nplt.suptitle(\"colorscales dependent\")\nz.dimlabels\nz.pcolor()\nplt.figure()\nplt.suptitle(\"colorscales independent\")\nz.pcolor(scale_independently=True)\nplt.show()"
      ]
    }
  ],
  "metadata": {
    "kernelspec": {
      "display_name": "Python 3",
      "language": "python",
      "name": "python3"
    },
    "language_info": {
      "codemirror_mode": {
        "name": "ipython",
        "version": 3
      },
      "file_extension": ".py",
      "mimetype": "text/x-python",
      "name": "python",
      "nbconvert_exporter": "python",
      "pygments_lexer": "ipython3",
      "version": "3.11.2"
    }
  },
  "nbformat": 4,
  "nbformat_minor": 0
}