{
  "cells": [
    {
      "cell_type": "markdown",
      "metadata": {},
      "source": [
        "\n# Unevenly spaced data\n\nBasic demonstration of pcolor, which can deal with unevenly spaced data\n\n<div class=\"alert alert-info\"><h4>Note</h4><p>Right now, we just do this with real/imaginary,\n    but in principal, it should be easily\n    possible to extend this to use domain\n    coloring (and to use it in the main DCCT\n    method)</p></div>\n"
      ]
    },
    {
      "cell_type": "code",
      "execution_count": null,
      "metadata": {
        "collapsed": false
      },
      "outputs": [],
      "source": [
        "import pyspecdata as psp\nimport matplotlib.pylab as plt\nfrom numpy import r_\n\n\ndef new_figure_and_grid():\n    fig = plt.figure()\n    gs = plt.GridSpec(2, 2, hspace=0.5)\n    ax_list = []\n    for j in range(2):\n        for k in range(2):\n            ax_list.append(fig.add_subplot(gs[j, k]))\n    return ax_list\n\n\nrun_to_checkpoint = 7  # allows us to run to different checkpoints.  If\n#                       everything is working correctly, this should go up to 5\n\nx = psp.nddata(r_[-5, -2, -1, -0.5, 0, 0.5, 5], \"x\")\ny = psp.nddata(3 * r_[-5, -2, -1, -0.5, 0, 0.5, 5], \"y\")\nz1 = plt.exp(-((y - 2) ** 2) - (x - 0) ** 2 / 2) + 1j * x\nz2 = 10 * z1\n# {{{ plot the smaller data\nplt.figure()\nplt.suptitle(\"colorscales independent -- small data\")\nmpbl = z1.pcolor(scale_independently=True)\n# }}}\nif run_to_checkpoint > 1:\n    # {{{ plot the larger data\n    plt.figure()\n    plt.suptitle(\"colorscales independent -- large data\")\n    mpbl = z2.pcolor(scale_independently=True, mappable_list=[])\n    # }}}\nif run_to_checkpoint > 2:\n    # {{{ independent\n    ax_list = new_figure_and_grid()\n    plt.suptitle(\"colorscales independent\")\n    z1.pcolor(scale_independently=True, ax1=ax_list[0], ax2=ax_list[1])\n    mpbl = z2.pcolor(scale_independently=True, ax1=ax_list[2], ax2=ax_list[3])\n    # }}}\nif run_to_checkpoint > 3:\n    # {{{ independent rows, dependent columns\n    ax_list = new_figure_and_grid()\n    plt.suptitle(\"re/im dependent, but two rows independent\")\n    z1.pcolor(ax1=ax_list[0], ax2=ax_list[1])\n    z2.pcolor(ax1=ax_list[2], ax2=ax_list[3])\n    # }}}\nif run_to_checkpoint > 4:\n    # {{{ small first, then large\n    ax_list = new_figure_and_grid()\n    plt.suptitle(\"colorscales dependent -- large second\")\n    mpbl = z1.pcolor(ax1=ax_list[0], ax2=ax_list[1])\n    mpbl = z2.pcolor(mappable_list=mpbl, ax1=ax_list[2], ax2=ax_list[3])\n    # }}}\nif run_to_checkpoint > 5:\n    # {{{ large in first row, then small in second row\n    ax_list = new_figure_and_grid()\n    plt.suptitle(\"colorscales dependent -- large first\")\n    mpbl = z2.pcolor(ax1=ax_list[0], ax2=ax_list[1])\n    z1.pcolor(mappable_list=mpbl, ax1=ax_list[2], ax2=ax_list[3])\n    # }}}\nif run_to_checkpoint > 6:\n    # {{{ manually set vmin and vmax\n    ax_list = new_figure_and_grid()\n    plt.suptitle(\"manually set vmin/vmax -- large second\")\n    z1.pcolor(\n        ax1=ax_list[0],\n        ax2=ax_list[1],\n        vmin=-10,\n        vmax=10,\n    )\n    z2.pcolor(\n        ax1=ax_list[2],\n        ax2=ax_list[3],\n        vmin=-150,\n        vmax=150,\n    )\n    # }}}\nplt.show()"
      ]
    }
  ],
  "metadata": {
    "kernelspec": {
      "display_name": "Python 3",
      "language": "python",
      "name": "python3"
    },
    "language_info": {
      "codemirror_mode": {
        "name": "ipython",
        "version": 3
      },
      "file_extension": ".py",
      "mimetype": "text/x-python",
      "name": "python",
      "nbconvert_exporter": "python",
      "pygments_lexer": "ipython3",
      "version": "3.11.2"
    }
  },
  "nbformat": 4,
  "nbformat_minor": 0
}