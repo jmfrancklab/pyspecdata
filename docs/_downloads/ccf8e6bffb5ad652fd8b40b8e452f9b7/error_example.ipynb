{
  "cells": [
    {
      "cell_type": "markdown",
      "metadata": {},
      "source": [
        "\n# Error and units example\n\nHere is a simple example of errors and unit propagation\n\nNotice that the base nddata class supplies error and propagation similar\nto uncertainty-type libraries.\n\nFor the units, `pint` is doing the heavy lifting here.\n"
      ]
    },
    {
      "cell_type": "code",
      "execution_count": null,
      "metadata": {
        "collapsed": false
      },
      "outputs": [],
      "source": [
        "import pyspecdata as psd\nfrom numpy import r_\nimport matplotlib.pyplot as plt"
      ]
    },
    {
      "cell_type": "markdown",
      "metadata": {},
      "source": [
        "As a simple example, say that we perform several measurements of a\nvolume (not sure physically why we would have such variability, but\nlet's roll with it to keep the example simple!)\n\n"
      ]
    },
    {
      "cell_type": "code",
      "execution_count": null,
      "metadata": {
        "collapsed": false
      },
      "outputs": [],
      "source": [
        "vol = psd.nddata(r_[1.10, 1.11, 1.02, 1.03, 1.00, 1.05]).set_units(\"L\")"
      ]
    },
    {
      "cell_type": "markdown",
      "metadata": {},
      "source": [
        "Similarly, let's take some measurements of the weight of a solute!\n\n"
      ]
    },
    {
      "cell_type": "code",
      "execution_count": null,
      "metadata": {
        "collapsed": false
      },
      "outputs": [],
      "source": [
        "weight = psd.nddata(r_[2.10, 2.61, 2.002, 2.73, 2.33, 2.69]).set_units(\"\u03bcg\")"
      ]
    },
    {
      "cell_type": "markdown",
      "metadata": {},
      "source": [
        "To test our error propagation below, we're going to divide the two\narrays here -- because the variability of this number should be somewhat\nsimilar to the propagated error below (though of course, there is a\nstatistical difference, and doing the two things does mean something\ndifferent).\nNotice how, during string conversion, we always give the standard error\n2 significant figures, and then base the significant figures of the\nnumber on the error.\n\n"
      ]
    },
    {
      "cell_type": "code",
      "execution_count": null,
      "metadata": {
        "collapsed": false
      },
      "outputs": [],
      "source": [
        "conc_indiv = weight / vol\nconc_indiv.mean(stderr=True)\nprint(conc_indiv)"
      ]
    },
    {
      "cell_type": "markdown",
      "metadata": {},
      "source": [
        "We take the mean, allowing it to accumulate the standard error.\n(See comment above about significant figures.)\n\n"
      ]
    },
    {
      "cell_type": "code",
      "execution_count": null,
      "metadata": {
        "collapsed": false
      },
      "outputs": [],
      "source": [
        "vol.mean(stderr=True)\nprint(vol)\n\nweight.mean(stderr=True)\nprint(weight)\n\nprint(weight / vol)\n\n# Because we want this to show up in sphinx gallery, we have\n# to make some type of figure\n\nfig = plt.figure()\ntext = plt.Text(\n    x=0.5,\n    y=0.5,\n    text=(\n        \"Compare one-by-one division,\\nfollowed by standard\"\n        f\" error:\\n{conc_indiv}\\nto division with error\"\n        f\" propagation:\\n{weight/vol}\"\n    ),\n    fontsize=40,\n    ha=\"center\",\n    va=\"center\",\n)\nfig.add_artist(text)\nfig.tight_layout()\nplt.show()"
      ]
    }
  ],
  "metadata": {
    "kernelspec": {
      "display_name": "Python 3",
      "language": "python",
      "name": "python3"
    },
    "language_info": {
      "codemirror_mode": {
        "name": "ipython",
        "version": 3
      },
      "file_extension": ".py",
      "mimetype": "text/x-python",
      "name": "python",
      "nbconvert_exporter": "python",
      "pygments_lexer": "ipython3",
      "version": "3.11.2"
    }
  },
  "nbformat": 4,
  "nbformat_minor": 0
}