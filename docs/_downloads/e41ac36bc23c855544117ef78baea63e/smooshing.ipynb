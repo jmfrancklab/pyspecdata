{
  "cells": [
    {
      "cell_type": "code",
      "execution_count": null,
      "metadata": {
        "collapsed": false
      },
      "outputs": [],
      "source": [
        "%matplotlib inline"
      ]
    },
    {
      "cell_type": "markdown",
      "metadata": {},
      "source": [
        "Break a single dimension into may (chunk) and collapse multiple into one (smoosh)\n\nIn order to demonstrate this, we create some CPMG-like data (comprising many echos that are subject to a decay)\n"
      ]
    },
    {
      "cell_type": "code",
      "execution_count": null,
      "metadata": {
        "collapsed": false
      },
      "outputs": [],
      "source": [
        "from pylab import *\nfrom pyspecdata import *\nt_echo = nddata(r_[0:1:16j],'t_echo')\nt2 = nddata(r_[-1/20:1/20:256j],'t2')\nT2 = 0.4\nT2star = 1e-2\nfake_data = exp(-t_echo/T2)*exp(-abs(t2)/T2star) + 0j\nfake_data.add_noise(0.2)\nwith figlist_var() as fl:\n    fl.next(\"fake data\")\n    fl.image(fake_data)\n    fake_data.smoosh(['t_echo','t2'],'t2')\n    fl.next(\"visualize CPMG as 1D data\")\n    # smoosh stores the data in a structured array format in such a way that it\n    # remembers how to automatically chunk the data again, but this also means\n    # we need to relabel the axis if we want to plot it nicely\n    fl.plot(fake_data.C.setaxis('t2','#')) # just number the time points\n    fake_data.chunk_auto('t2')\n    fl.next(\"restored fake data\")\n    fl.image(fake_data)"
      ]
    }
  ],
  "metadata": {
    "kernelspec": {
      "display_name": "Python 3",
      "language": "python",
      "name": "python3"
    },
    "language_info": {
      "codemirror_mode": {
        "name": "ipython",
        "version": 3
      },
      "file_extension": ".py",
      "mimetype": "text/x-python",
      "name": "python",
      "nbconvert_exporter": "python",
      "pygments_lexer": "ipython3",
      "version": "3.8.3"
    }
  },
  "nbformat": 4,
  "nbformat_minor": 0
}