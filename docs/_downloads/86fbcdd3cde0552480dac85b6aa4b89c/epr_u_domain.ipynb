{
  "cells": [
    {
      "cell_type": "markdown",
      "metadata": {},
      "source": [
        "\n# EPR u-domain\nShow the $u$-domain in EPR.\n\nWe use this to demonstrate:\n\n- setting the defaults for FT shift vs. not\n- units that appear OK in the plot, even when the initial domain is frequency\n  and conjugate is inverse domain\n- successful convolution, even with really weird FT startpoints\n"
      ]
    },
    {
      "cell_type": "code",
      "execution_count": null,
      "metadata": {
        "collapsed": false
      },
      "outputs": [],
      "source": [
        "import pyspecdata as psd\nimport re\n\npsd.init_logging(level=\"debug\")\nBname = \"$B_0$\"\nd = psd.find_file(re.escape(\"220307_S175_KCl.DSC\"),\n                  exp_type=\"francklab_esr/Farhana\")\nd.chunk_auto(\"harmonic\")\nd = d[\"harmonic\", 0][\"phase\", 0]\nd[Bname] *= 1e-4\nd.set_units(Bname, \"T\")\nd.set_ft_initial(Bname, \"f\").set_ft_prop(Bname, \"time_not_aliased\")\nwith psd.figlist_var() as fl:\n    fl.next(\"initial spectrum\", figsize=(3 * 1.618, 3))\n    fl.plot(d)\n    fl.next(\"u-domain\", figsize=(3 * 1.618, 3))\n    d.ift(Bname)\n    fl.plot(d)\n    fl.next(\"initial spectrum\")\n    d.ft(Bname)\n    d.convolve(Bname, 3e-4, enforce_causality=False)  # smooth by 1 G\n    fl.plot(d)\n    fl.next(\"u-domain\")\n    d.ift(Bname)\n    fl.plot(d)"
      ]
    }
  ],
  "metadata": {
    "kernelspec": {
      "display_name": "Python 3",
      "language": "python",
      "name": "python3"
    },
    "language_info": {
      "codemirror_mode": {
        "name": "ipython",
        "version": 3
      },
      "file_extension": ".py",
      "mimetype": "text/x-python",
      "name": "python",
      "nbconvert_exporter": "python",
      "pygments_lexer": "ipython3",
      "version": "3.11.2"
    }
  },
  "nbformat": 4,
  "nbformat_minor": 0
}