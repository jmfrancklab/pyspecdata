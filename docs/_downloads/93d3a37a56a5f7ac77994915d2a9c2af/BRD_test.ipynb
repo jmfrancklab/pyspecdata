{
  "cells": [
    {
      "cell_type": "markdown",
      "metadata": {},
      "source": [
        "\n# 1D BRD regularization\n\nfor 1D BRD, adapted mainly from Venkataramanan 2002\nbut checked against BRD 1981\n"
      ]
    },
    {
      "cell_type": "code",
      "execution_count": null,
      "metadata": {
        "collapsed": false
      },
      "outputs": [],
      "source": [
        "from matplotlib.pyplot import figure, show, title, legend, axvline\nfrom numpy import linspace, exp, zeros, eye, logspace, r_, sqrt, pi, std\nfrom pylab import linalg\nfrom pyspecdata import nddata, init_logging, plot\nfrom scipy.optimize import nnls\nfrom numpy.random import seed\n\nseed(1234)\ninit_logging(\"debug\")\nvd_list = nddata(linspace(5e-4, 10, 25), \"vd\")\nt1_name = r\"$\\log(T_1)$\"\nlogT1 = nddata(r_[-4:2:100j], t1_name)\n\n\nmu1 = 0.5\nsigma1 = 0.3\nL_curve_l = 0.036  # read manually off of plot\nplot_Lcurve = True\ntrue_F = (\n    1 / sqrt(2 * pi * sigma1**2) * exp(-((logT1 - mu1) ** 2) / 2 / sigma1**2)\n)\n\n\nK = 1.0 - 2 * exp(-vd_list / 10 ** (logT1))\n\nK.reorder(\"vd\")  # make sure vd along rows\nprint(K.shape)\nprint(true_F.shape)\n\nM = K @ true_F  # the fake data\nprint(M.shape)\n# M.setaxis('vd',y_axis)\nM.add_noise(0.2)\nM /= 0.2  # this is key -- make sure that the noise variance is 1, for BRD\n\n# this is here to test the integrated 1D-BRD (for pyspecdata)\nprint(\"*** *** ***\")\nprint(M.shape)\nprint(logT1.shape)\nprint(\"*** *** ***\")\nsolution = M.C.nnls(\n    \"vd\", logT1, lambda x, y: 1 - 2 * exp(-x / 10 ** (y)), l=\"BRD\"\n)\nsolution_confirm = M.C.nnls(\n    \"vd\",\n    logT1,\n    lambda x, y: 1 - 2 * exp(-x / 10 ** (y)),\n    l=sqrt(solution.get_prop(\"opt_alpha\")),\n)\n\n\ndef nnls_reg(K, b, val):\n    b_prime = r_[b, zeros(K.shape[1])]\n    x, _ = nnls(A_prime(K, val), b_prime)\n    return x\n\n\n# generate the A matrix, which should have form of the original kernel and then\n# an additional length corresponding to size of the data dimension, where\n# smothing param val is placed\ndef A_prime(K, val):\n    dimension = K.shape[1]\n    A_prime = r_[K, val * eye(dimension)]\n    return A_prime\n\n\nif plot_Lcurve:\n    # {{{ L-curve\n    # solution matrix for l different lambda values\n    x = M.real.C.nnls(\n        \"vd\",\n        logT1,\n        lambda x, y: (1.0 - 2 * exp(-x / 10 ** (y))),\n        l=sqrt(\n            logspace(-10, 1, 25)\n        ),  # adjusting the left number will adjust the right side of L-curve\n    )\n    # norm of the residual (data - soln)\n    # norm of the solution (taken along the fit axis)\n    x.run(linalg.norm, t1_name)\n\n    # From L-curve\n    figure()\n    axvline(x=L_curve_l, ls=\"--\")\n    plot(x)\n    # }}}\n\n# generate data vector for smoothing\n\nprint(K.shape)\nL_opt_vec = nnls_reg(K.data, M.data.squeeze(), L_curve_l)\n\nfigure()\ntitle(\"ILT distributions\")\nL_opt_vec = nddata(L_opt_vec, t1_name).copy_axes(true_F)\nnormalization = solution.data.max() / true_F.data.max()\nplot(true_F * normalization, label=\"True\")\nprint(\n    \"true mean:\",\n    true_F.C.mean(t1_name).item(),\n    \"\u00b1\",\n    true_F.run(std, t1_name).item(),\n)\nplot(L_opt_vec, label=\"L-Curve\")\nprint(\n    \"opt. \u03bb mean:\",\n    L_opt_vec.C.mean(t1_name).item(),\n    \"\u00b1\",\n    L_opt_vec.run(std, t1_name).item(),\n)\nplot(solution, \":\", label=\"pyspecdata-BRD\")\nplot(\n    solution_confirm,\n    \"--\",\n    label=rf\"manual BRD $\\alpha={solution.get_prop('opt_alpha'):#0.2g}$\",\n    alpha=0.5,\n)\nprint(\n    \"BRD mean:\",\n    solution.C.mean(t1_name).item(),\n    \"\u00b1\",\n    solution.run(std, t1_name).item(),\n)\nlegend()\nshow()"
      ]
    }
  ],
  "metadata": {
    "kernelspec": {
      "display_name": "Python 3",
      "language": "python",
      "name": "python3"
    },
    "language_info": {
      "codemirror_mode": {
        "name": "ipython",
        "version": 3
      },
      "file_extension": ".py",
      "mimetype": "text/x-python",
      "name": "python",
      "nbconvert_exporter": "python",
      "pygments_lexer": "ipython3",
      "version": "3.11.2"
    }
  },
  "nbformat": 4,
  "nbformat_minor": 0
}