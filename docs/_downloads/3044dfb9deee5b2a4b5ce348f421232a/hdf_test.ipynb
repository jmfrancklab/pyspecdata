{
  "cells": [
    {
      "cell_type": "markdown",
      "metadata": {},
      "source": [
        "# Save data to HDF5\n\nSave nddata to standard HDF5 format.\n"
      ]
    },
    {
      "cell_type": "code",
      "execution_count": null,
      "metadata": {
        "collapsed": false
      },
      "outputs": [],
      "source": [
        "from pyspecdata import nddata, nddata_hdf5\nfrom numpy import r_\nimport os\n\na = nddata(r_[0:9], [3, 3], [\"a\", \"b\"]).labels(\n    dict(\n        a=r_[0:3],\n        b=r_[1:4],\n    )\n)\na.name(\"test_data\")\na.set_units(\"a\", \"s\").set_units(\"W\")\na.hdf5_write(\"test.h5\")\na_reload = nddata_hdf5(\"test.h5/test_data\")\nprint(\"Units set for the a axis are:\", a_reload.get_units(\"a\"))\nassert (a.data == a_reload.data).all()\nassert (a.getaxis(\"a\") == a_reload.getaxis(\"a\")).all()\nassert (a.getaxis(\"b\") == a_reload.getaxis(\"b\")).all()\nassert a.get_units(\"a\") == \"s\"\nassert a.get_units() == \"W\"\nprint(a_reload)\nos.remove(\"test.h5\")"
      ]
    }
  ],
  "metadata": {
    "kernelspec": {
      "display_name": "Python 3",
      "language": "python",
      "name": "python3"
    },
    "language_info": {
      "codemirror_mode": {
        "name": "ipython",
        "version": 3
      },
      "file_extension": ".py",
      "mimetype": "text/x-python",
      "name": "python",
      "nbconvert_exporter": "python",
      "pygments_lexer": "ipython3",
      "version": "3.11.2"
    }
  },
  "nbformat": 4,
  "nbformat_minor": 0
}