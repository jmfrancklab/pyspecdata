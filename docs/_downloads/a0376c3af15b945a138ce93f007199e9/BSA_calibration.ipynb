{
  "cells": [
    {
      "cell_type": "markdown",
      "metadata": {},
      "source": [
        "\n# BSA UV-Vis Calibration\n\nThis example is specifically designed to process data from a BSA calibration curve lab exercise.\n\nTo run the curve for your data:\n\n-   Make sure the data is stored on google drive in the\n    `exp_data/UV_Vis/BSA_calib` directory, and your computer is set up so that\n    your `_pyspecdata` file points to google drive.\n-   Just make a copy of this file, change the name of the BSW file to point to your data\n-   Then edit the table inside the OrderedDict below so that it gives the\n    correct labels and scan names for all the spectra in your run.\n-   edit the `background` parameter below so that it points to the scan that\n    you want to function as your baseline/background.\n    -   We would rather record the raw absorbance values, rather than rely on\n        the spectrometer to subtract and hide the absorbance values of our\n        baseline.\n"
      ]
    },
    {
      "cell_type": "code",
      "execution_count": null,
      "metadata": {
        "collapsed": false
      },
      "outputs": [],
      "source": [
        "from pylab import *\nfrom pyspecdata import *\nimport numpy as np\nimport matplotlib.pyplot as plt\nfrom collections import OrderedDict\nimport sympy as sp\n\n# {{{ some constants\nwv = \"$\\\\lambda$\"\nwv_range = (276, 281)  # range of wavelengths we consider to be our peak\n# }}}\n\n# HERE we get dictionaries of nddata\ndataWKBSA = find_file(\n    \"221110_BSAexerciseWK_0p07-0percentBSAcalibration.BSW\", exp_type=\"UV_Vis/BSA_Exercise\"\n)\nprint(\"the experiments present in this file are:\", dataWKBSA.keys())\n# from our notebook, we get the following info\n# think of this like a dictionary -- what is the sample called (on the left)\n# and what's its scan label (on the right).  **Ideally** the scan labels\n# shouldn't be this complicated -- they should just be single letters, as noted\n# in the protocol.\n#\n# Code below expects that when the label/key below is a concentration, it has a % symbol\nlist_of_runs = OrderedDict(\n    [\n        (\"Water\", \"UP_H2O\"),\n        (\"0 %\", \"K-PBSbuffer\"),\n        (\"0.0078 %\", \"J-0p0078%BSA\"),\n        (\"0.0156 %\", \"H-0p0156%BSA\"),\n        (\"0.0234 %\", \"G-0p0234%BSA_actual\"),\n        (\"0.0311 %\", \"F-0p0311%BSA\"),\n        (\"0.0389 %\", \"E-0p0389%BSA\"),\n        (\"0.0466 %\", \"D-0p0466%BSA\"),\n        (\"0.0544 %\", \"C-0p0544%BSA\"),\n        (\"0.0622 %\", \"B-0p0622%BSA\"),\n        (\"0.0700 %\", \"A-0p0700%BSA\"),\n    ]\n)\nbackground = (\n    \"0 %\"  # this is the label of the thing we want to subtract as the background\n)\nwith figlist_var() as fl:\n    # {{{ first, just show the raw data and the region of the spectrum that we intend to slice\n    bg_data = dataWKBSA[list_of_runs[background]]\n    fl.next(\"raw data\", legend=True)\n    plt.axvspan(wv_range[0], wv_range[1], color=\"k\", alpha=0.1)\n    for thislabel, thisscan in list_of_runs.items():\n        if thislabel in [background, \"Water\"]:\n            fl.plot(\n                dataWKBSA[thisscan],\n                label=thislabel + \"\\n(no background subtraction)\",\n                alpha=0.5,\n            )\n        else:\n            fl.plot(dataWKBSA[thisscan] - bg_data, label=thislabel, alpha=0.5)\n    # }}}\n    # {{{ pull a list of all of the spectra whose labels express a concentration\n    #     (percentage), as well as an array of floating point values for the\n    #     corresponding concentrations\n    conc_labels = [k for k, v in list_of_runs.items() if \"%\" in k]\n    conc_values = array([float(j.replace(\"%\", \"\")) for j in conc_labels])\n    bg_data = dataWKBSA[list_of_runs[background]]\n    all_data = concat(\n        [dataWKBSA[list_of_runs[k]] - bg_data for k in conc_labels], \"concentration\"\n    ).setaxis(\"concentration\", conc_values)\n    # }}}\n    # {{{ now, gather the data in to a 2D array, so that I can just average the peak and plot the calibration curve\n    A280 = all_data[wv:wv_range].mean(wv)\n    fl.next(\"calibration curve\")\n    fl.plot(A280, \"o\")\n    c = A280.polyfit(\"concentration\", order=1)\n    fl.plot(A280.eval_poly(c, \"concentration\"))\n    # }}}\n    # {{{ use sympy to print the fit equation\n    conc_symb = sp.symbols(\"c\", real=True)\n    expr = sum([conc_symb ** j * sp.Float(c[j], 3) for j in range(len(c))])\n    plt.text(\n        0.5,\n        0.5,\n        sp.latex(expr),\n        transform=gca().transAxes,\n        va=\"center\",\n        ha=\"center\",\n        size=20,\n    )\n    # }}}"
      ]
    }
  ],
  "metadata": {
    "kernelspec": {
      "display_name": "Python 3",
      "language": "python",
      "name": "python3"
    },
    "language_info": {
      "codemirror_mode": {
        "name": "ipython",
        "version": 3
      },
      "file_extension": ".py",
      "mimetype": "text/x-python",
      "name": "python",
      "nbconvert_exporter": "python",
      "pygments_lexer": "ipython3",
      "version": "3.11.2"
    }
  },
  "nbformat": 4,
  "nbformat_minor": 0
}