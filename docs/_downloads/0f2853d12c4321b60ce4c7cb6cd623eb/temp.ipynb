{
  "cells": [
    {
      "cell_type": "markdown",
      "metadata": {},
      "source": [
        "\n# Calculation of the Covariance Matrix\nAfter rescaling plots, the covariance matrix is calculated\nand then plotted for a 2D Field experiment (spectra as a function\nof field with multiple collections or \"Times\")\n"
      ]
    },
    {
      "cell_type": "code",
      "execution_count": null,
      "metadata": {
        "collapsed": false
      },
      "outputs": [],
      "source": [
        "from pyspecdata import *\nfrom pylab import *\n\nfieldaxis = \"$B_0$\"\nexp_type = \"francklab_esr/romana\"\nwith figlist_var() as fl:\n    for filenum, (thisfile, fl.basename) in enumerate([\n        (\n            re.escape(\"250123_TEMPOL_100uM_AG_Covariance_2D.DSC\"),\n            \"fast conversion\",\n        ),\n        (\n            re.escape(\"250123_TEMPOL_100uM_AG_Covariance_2D_cc12.DSC\"),\n            \"slow conversion\",\n        ),\n    ]):\n        d = find_file(thisfile, exp_type=exp_type)[\"harmonic\", 0]\n        d.set_units(fieldaxis, \"T\").setaxis(fieldaxis, lambda x: x * 1e-4)\n        d.rename(\"Time\", \"observations\")\n        d.reorder([fieldaxis,\"observations\"])\n        fl.next(\"raw data\")\n        fl.image(d)\n        fl.next(\"covariance in B domain\")\n        # we do this first, because if we were to ift to go to u domain and\n        # then ft back, we would introduce a complex component to our data\n        fl.image(d.C.cov_mat(\"observations\"))\n        d.ift(fieldaxis, shift=True)\n        fl.next(\"Covariance in U domain\")\n        fl.image(\n            d.cov_mat(\"observations\").run(abs)\n        )  # this time, do not spin up an extra copy of the data"
      ]
    }
  ],
  "metadata": {
    "kernelspec": {
      "display_name": "Python 3",
      "language": "python",
      "name": "python3"
    },
    "language_info": {
      "codemirror_mode": {
        "name": "ipython",
        "version": 3
      },
      "file_extension": ".py",
      "mimetype": "text/x-python",
      "name": "python",
      "nbconvert_exporter": "python",
      "pygments_lexer": "ipython3",
      "version": "3.11.2"
    }
  },
  "nbformat": 4,
  "nbformat_minor": 0
}