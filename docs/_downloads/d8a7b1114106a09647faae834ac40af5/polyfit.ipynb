{
  "cells": [
    {
      "cell_type": "markdown",
      "metadata": {},
      "source": [
        "\n# Polynomial Fitting\n\nA quick demonstration of polynomial fitting.\n"
      ]
    },
    {
      "cell_type": "code",
      "execution_count": null,
      "metadata": {
        "collapsed": false
      },
      "outputs": [],
      "source": [
        "from pylab import *\nfrom pyspecdata import *\n# {{{ generate fake data\nx = nddata(r_[0:10:7j], 'x')\ny = (x-2.0)**2\ny.add_noise(2)\n# }}}\nplot(y,'o')\nc = y.polyfit('x', order=2)\nassert len(c)==3\n# math for min:\n# a(x-b)\u00b2= ax\u00b2 - 2abx + ab\u00b2\n# c\u2082 = a\n# c\u2081 = -2ab\n# c\u2080 = ab\u00b2\n# b = -c\u2081/(c\u20822)\nprint(\"I found the minimum here at\",-c[1]/c[2]/2)\n# generate a polynomial that's more finely spaced by setting the\n# `npts` parameter.  This is a shortcut for:\n# x = nddata(r_[0:10:300j], 'x')\n# followed by\n# plot(x.eval_poly(c,'x'))\nplot(y.eval_poly(c,'x', npts=300))\n# {{{ not a good idea, but force the y intercept to 0\n#     to show the code works\nc = y.polyfit('x', order=3, force_y_intercept=0)\nx = nddata(r_[0:10:100j], 'x')\nplot(y.eval_poly(c,'x', npts=300))\n# }}}\nshow()"
      ]
    }
  ],
  "metadata": {
    "kernelspec": {
      "display_name": "Python 3",
      "language": "python",
      "name": "python3"
    },
    "language_info": {
      "codemirror_mode": {
        "name": "ipython",
        "version": 3
      },
      "file_extension": ".py",
      "mimetype": "text/x-python",
      "name": "python",
      "nbconvert_exporter": "python",
      "pygments_lexer": "ipython3",
      "version": "3.11.2"
    }
  },
  "nbformat": 4,
  "nbformat_minor": 0
}