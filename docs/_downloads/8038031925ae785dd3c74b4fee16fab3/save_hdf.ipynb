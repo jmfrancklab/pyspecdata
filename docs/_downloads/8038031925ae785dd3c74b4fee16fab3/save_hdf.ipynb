{
  "cells": [
    {
      "cell_type": "code",
      "execution_count": null,
      "metadata": {
        "collapsed": false
      },
      "outputs": [],
      "source": [
        "%matplotlib inline"
      ]
    },
    {
      "cell_type": "markdown",
      "metadata": {},
      "source": [
        "\n# Saving HDF5 Files\n\nan example of saving nddata to hdf5 files, which preserves all of the nddata\ninformation flawlessly\n"
      ]
    },
    {
      "cell_type": "code",
      "execution_count": null,
      "metadata": {
        "collapsed": false
      },
      "outputs": [],
      "source": [
        "from pyspecdata import *\na = nddata(r_[0:5:10j], 'x')\na.name('test_data')\ntry:\n    a.hdf5_write('example.h5',getDATADIR(exp_type='francklab_esr/Sam'))\nexcept:\n    print(\"file already exists, not creating again -- delete the file or node if wanted\")\n# read the file by the \"raw method\"\nb = nddata_hdf5('example.h5/test_data',\n        getDATADIR(exp_type='francklab_esr/Sam'))\nprint(\"found data:\",b)\n# or use the find file method\nc = find_file('example.h5', exp_type='francklab_esr/Sam',\n        expno='test_data')\nprint(\"found data:\",c)"
      ]
    }
  ],
  "metadata": {
    "kernelspec": {
      "display_name": "Python 3",
      "language": "python",
      "name": "python3"
    },
    "language_info": {
      "codemirror_mode": {
        "name": "ipython",
        "version": 3
      },
      "file_extension": ".py",
      "mimetype": "text/x-python",
      "name": "python",
      "nbconvert_exporter": "python",
      "pygments_lexer": "ipython3",
      "version": "3.8.3"
    }
  },
  "nbformat": 4,
  "nbformat_minor": 0
}