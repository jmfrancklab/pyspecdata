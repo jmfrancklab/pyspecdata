{
  "cells": [
    {
      "cell_type": "markdown",
      "metadata": {},
      "source": [
        "\n# Basic Slicing/Filtering Example\nHere we demonstrate both the coordinate-based slicing notatation, which is\nunique to pySpecData,\nas well the way in which the axis coordinates for a Fourier transform are\nhandled automatically.\nWe also show how to make a new data object based on the axis coordinates of an\nexisting object -- e.g., to create an apodization filter (as here) or to apply\na frequency-dependent phase shift.\n\nThe case considered here is that of an NMR FID that has been acquired with a\nwider spectral width than the signal of interest, and with a longer acquisition\ntime.\nAs we select an apply filters/apodization to throw out the noise outside the\nbandwidth and time range of the signal, the SNR of the signal improves.\n"
      ]
    },
    {
      "cell_type": "code",
      "execution_count": null,
      "metadata": {
        "collapsed": false
      },
      "outputs": [],
      "source": [
        "from pylab import *\nfrom pyspecdata import *\n\nfig, (ax_time, ax_freq) = subplots(2,1)\nt = nddata(r_[0:0.5:1e-3], 't2') # 1 kHz SW with a freq. resolution of 1/0.5=2 Hz\nfake_data = exp(1j*2*pi*100*t-10*t*pi) # 10 Hz wide line at 100 Hz offset\nfake_data.add_noise(0.3).set_units('t2','s')\nplot(fake_data, ax=ax_time, alpha=0.2, label='raw data')\nax_time.set_title(\"time domain\")\nax_freq.set_title(\"frequency domain\")\nfake_data.ft('t2', shift=True)\nassert fake_data.get_ft_prop('t2','dt') == 1e-3\nprint(\"note that the original dwell time is\",fake_data.get_ft_prop('t2','dt'),\n        \"and the original frequency resolution is\",fake_data.get_ft_prop('t2','df'))\nplot(fake_data, ax=ax_freq, alpha=0.2, label='raw data')\nfig.tight_layout()\nfake_data = fake_data['t2':(-200,200)] # filter the data in the frequency domain by slicing from -200 to 200 Hz\nplot(fake_data, ':', ax=ax_freq, alpha=0.2, label='after frequency slice')\nfake_data.ift('t2') # now, move back into the time domain, where it will have less noise, and with less points\nplot(fake_data, ax=ax_time, alpha=0.5, label='after frequency slice')\n# in the time domain, we can either slice simply:\ntruncated_data = fake_data['t2':(0,0.2)]\nplot(truncated_data, ax=ax_time, alpha=0.5, label='after time slice')\n# or we can implement a matched filter:\nfake_data *= 2*exp(-10*pi*fake_data.fromaxis('t2')) \nplot(fake_data, ax=ax_time, alpha=0.5, label='apodized')\ntruncated_data.ft('t2') # note that after we ft the first time, it \"remembers\"\n#                         whether or not we have frequency shifted, and will\n#                         use the existing start point in the frequency domain\nfake_data.ft('t2')\nplot(truncated_data, ax=ax_freq, alpha=0.5, label='after time slice')\nplot(fake_data, ax=ax_freq, alpha=0.5, label='after apodization')\nprint(\"note that the new dwell time of the truncated data is\",truncated_data.get_ft_prop('t2','dt'),\n        \"and the new frequency resolution is\",truncated_data.get_ft_prop('t2','df'))\n# finally, show that we can zero fill\ntruncated_data.ift('t2')\ntruncated_data.ft('t2', pad=256)\nplot(truncated_data, ax=ax_freq, alpha=0.5, label='after time slice and zero filling')\ntruncated_data.ift('t2')\nplot(truncated_data, ':', ax=ax_time, alpha=0.5, label='after time slice and zero filling')\nax_time.legend(**dict(bbox_to_anchor=(1.05,1), loc=2, borderaxespad=0.))\nax_freq.legend(**dict(bbox_to_anchor=(1.05,1), loc=2, borderaxespad=0.))\nfig.tight_layout()\nshow()"
      ]
    }
  ],
  "metadata": {
    "kernelspec": {
      "display_name": "Python 3",
      "language": "python",
      "name": "python3"
    },
    "language_info": {
      "codemirror_mode": {
        "name": "ipython",
        "version": 3
      },
      "file_extension": ".py",
      "mimetype": "text/x-python",
      "name": "python",
      "nbconvert_exporter": "python",
      "pygments_lexer": "ipython3",
      "version": "3.11.2"
    }
  },
  "nbformat": 4,
  "nbformat_minor": 0
}