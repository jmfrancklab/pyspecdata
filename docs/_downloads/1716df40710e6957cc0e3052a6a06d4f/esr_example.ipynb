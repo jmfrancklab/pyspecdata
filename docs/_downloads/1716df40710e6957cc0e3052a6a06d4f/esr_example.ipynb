{
  "cells": [
    {
      "cell_type": "code",
      "execution_count": null,
      "metadata": {
        "collapsed": false
      },
      "outputs": [],
      "source": [
        "%matplotlib inline"
      ]
    },
    {
      "cell_type": "markdown",
      "metadata": {},
      "source": [
        "\n# Bruker cw ESR Data\n\nLoad cw Bruker ESR data, both 1D and 2D.\n\nCheck out the\n[Simple UV](Cary_simple.html)\nexample to understand how\npySpecData locates the file here.\n"
      ]
    },
    {
      "cell_type": "code",
      "execution_count": null,
      "metadata": {
        "collapsed": false
      },
      "outputs": [],
      "source": [
        "from numpy import *\nimport pylab as plt\nfrom pyspecdata import *"
      ]
    },
    {
      "cell_type": "markdown",
      "metadata": {},
      "source": [
        "Load some 1D ESR data with harmonic + phase info.\nThe data is initial organized into two dimensions -- `harmonic` and `$B_0$`.\n\n\n"
      ]
    },
    {
      "cell_type": "code",
      "execution_count": null,
      "metadata": {
        "collapsed": false
      },
      "outputs": [],
      "source": [
        "d = find_file(\"S175R1a.*DHPC.*200304\",\n        exp_type='francklab_esr/Sam')\nprint(ndshape(d))\nprint(\"here, we see the harmonic axis contains both harmonic and phase info\",repr(d.getaxis('harmonic')))\nd.chunk_auto('harmonic','phase')"
      ]
    },
    {
      "cell_type": "markdown",
      "metadata": {},
      "source": [
        "`chunk_auto` breaks the `harmonic` dimensions since it was labeled with an axis that had 2 fields.\n\n"
      ]
    },
    {
      "cell_type": "code",
      "execution_count": null,
      "metadata": {
        "collapsed": false
      },
      "outputs": [],
      "source": [
        "print(ndshape(d))\n\nfigure(1)\nplot(d['phase',0]['Microwave Power',3], alpha=0.5)\nplot(d['phase',1]['Microwave Power',3], ':', alpha=0.5)\ntitle(\"1D Data with Multiple Harmonics\")"
      ]
    },
    {
      "cell_type": "markdown",
      "metadata": {},
      "source": [
        "Next, let's load some power-saturation data\n\n"
      ]
    },
    {
      "cell_type": "code",
      "execution_count": null,
      "metadata": {
        "collapsed": false
      },
      "outputs": [],
      "source": [
        "d = find_file(\"Power.*Sat.*200303\",\n        exp_type='francklab_esr/Sam')\nd.chunk_auto('harmonic','phase')\nfigure(2)\nimage(d['harmonic',0]['phase',0].C.setaxis('Microwave Power','#').set_units('Microwave Power','scan #'))\ntitle(\"2D Power Saturation\")\nplt.gca().set_aspect('auto')\nplt.show()"
      ]
    }
  ],
  "metadata": {
    "kernelspec": {
      "display_name": "Python 3",
      "language": "python",
      "name": "python3"
    },
    "language_info": {
      "codemirror_mode": {
        "name": "ipython",
        "version": 3
      },
      "file_extension": ".py",
      "mimetype": "text/x-python",
      "name": "python",
      "nbconvert_exporter": "python",
      "pygments_lexer": "ipython3",
      "version": "3.10.9"
    }
  },
  "nbformat": 4,
  "nbformat_minor": 0
}