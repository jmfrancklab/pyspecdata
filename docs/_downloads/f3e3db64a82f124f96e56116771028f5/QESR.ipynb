{
  "cells": [
    {
      "cell_type": "markdown",
      "metadata": {},
      "source": [
        "\n# Quantitative ESR\nIn this example, we baseline correct and\nintegrate ESR data, and compare the result to\nthe result of integration inside XEPR.\n\nThis makes use of the package `pint`, which is a\nvery nice package for handling units.\n"
      ]
    },
    {
      "cell_type": "code",
      "execution_count": null,
      "metadata": {
        "collapsed": false
      },
      "outputs": [],
      "source": [
        "from pyspecdata import *\nimport numpy as np\nfrom matplotlib.pyplot import axvline, axhline, gca\nfrom pint import UnitRegistry\n\nureg = UnitRegistry(system=\"mks\",autoconvert_offset_to_baseunit=True, auto_reduce_dimensions=True)\n\nQ_ = ureg.Quantity\ncolors = plt.rcParams[\"axes.prop_cycle\"]() # this is the default matplotlib cycler for line styles\nfieldaxis = '$B_0$'\npushout = 3\nQESR_concs = r_[190.8,\n        172.1,\n        177.7,\n        173.2,\n        144.6,\n        155.9,]*1e-6\nmyconcs = []\nwith figlist_var() as fl:\n    background = find_file(\"QESR_Test_WaterCap_Background_210923.DSC\", exp_type=\"francklab_esr/Sam\")['harmonic',0]\n    #background -= background[fieldaxis, -100:].data.mean()\n    for filenum, (thisfile, thislabel) in enumerate([(\"QESR_150uM_TEMPOL_1_noglyc_210923.DSC\", \"sample #1\"),\n            (\"QESR_150uM_TEMPOL_2_noglyc_210923.DSC\", \"sample #2\"),\n            (\"QESR_150uM_TEMPOL_3_noglyc_210923.DSC\", \"sample #3\"),\n            (\"QESR_150uM_TEMPOL_4_wglyc_210923.DSC\", \"sample #4\"),\n            (\"QESR_150uM_TEMPOL_5_wglyc_210923.DSC\", \"sample #5\"),\n            (\"QESR_150uM_TEMPOL_6_wglyc_210923.DSC\", \"sample #6\"),\n            ]):\n        d = find_file(thisfile, exp_type=\"francklab_esr/Sam\")['harmonic',0]\n        G_R = Q_(*d.get_prop(\"Gain\"))\n        C_t = Q_(*d.get_prop(\"ConvTime\"))\n        # it seems like n is already divided out\n        #n = Q_(1,'dimensionless') # Q_(float(d.get_prop('AVGS')),'dimensionless')\n        power =  Q_(*d.get_prop(\"Power\"))\n        B_m = Q_(*d.get_prop(\"ModAmp\"))\n        Q = Q_(float(d.get_prop('QValue')),'dimensionless')\n        #Q = Q_(5400.,'dimensionless')\n        n_B = Q_(1,'dimensionless') # calculate this\n        S = Q_(0.5,'dimensionless')\n        c = Q_(1,'dimensionless') # the first fraction on pg 2-17 -- essentially the conversion factor\n        signal_denom = G_R * C_t * sqrt(power) * B_m * Q * n_B * S * (S+1)\n        signal_denom = signal_denom.to(Q_('G')*sqrt(Q_('W'))*Q_('s'))\n        print(\n                f\"G_R {G_R:~P}\\n\",\n                f\"C_t {C_t:~P}\\n\",\n                f\"power {power:~P}\\n\",\n                f\"B_m {B_m:~P}\\n\",\n                f\"Q {Q:~P}\\n\",\n                f\"n_B {n_B:~P}\\n\",\n                f\"S {S:~P}\\n\",\n                f\"c {c:~P}\\n\",\n                f\"signal_denom {signal_denom:~P} {signal_denom.magnitude}\")\n        d.set_plot_color(next(colors)['color'])\n        #d -= d[fieldaxis, -100:].data.mean()\n        d -= background\n        fl.next(\"absorption, direct\")\n        d_abs = d.C.integrate(fieldaxis, cumulative=True)\n        fl.plot(d_abs, alpha=0.5)\n        peaklist = d_abs.contiguous(lambda x: abs(x) > abs(x).data.max()/2)[:3,:]\n        peaksize = np.diff(peaklist, axis=1).mean()\n        print(\"peaksize\",peaksize)\n        specrange = (peaklist.ravel().min(),peaklist.ravel().max())\n        print(\"specrange\",specrange)\n        fl.next(\"d_abs. int, direct\")\n        d_int_direct = d_abs.C\n        fl.plot(d_int_direct.integrate(fieldaxis, cumulative=True), alpha=0.5)\n        fl.next(\"absorption, direct\")\n        generous_limits = specrange+r_[-pushout*peaksize,+pushout*peaksize]\n        for j in r_[np.array(specrange), generous_limits]:\n            axvline(x=j/1e3, alpha=0.1)\n        d_baseline = d_abs[fieldaxis, lambda x: np.logical_or(x<generous_limits[0], x>generous_limits[1])]\n        fl.next(\"for baseline\")\n        fl.plot(d_baseline, '.', alpha=0.3, human_units=False)\n        middle_field = np.diff(d_baseline.getaxis(fieldaxis)[r_[0,-1]]).item()\n        d_baseline.setaxis(fieldaxis, lambda x: x-middle_field)\n        c = d_baseline.polyfit(fieldaxis, order=7)\n        polybaseline = d.fromaxis(fieldaxis).setaxis(fieldaxis, lambda x: x-middle_field).eval_poly(c,fieldaxis)\n        polybaseline.setaxis(fieldaxis, lambda x: x+middle_field)\n        fl.plot(polybaseline, alpha=0.5, human_units=False)\n        fl.next(\"absorption, with baseline\")\n        d_abs -= polybaseline\n        fl.plot(d_abs, alpha=0.5)\n        d_abs.integrate(fieldaxis, cumulative=True)\n        fl.next(\"dblint \u00f7 denom\")\n        fl.plot(d_abs/signal_denom.magnitude, alpha=0.5, label=f\"{thislabel} (denominator ${signal_denom:~0.2L}$)\")\n        expected_QESR = (d_abs/signal_denom.magnitude).data[-100:].mean()\n        fl.next(\"dblint\")\n        fl.plot(d_abs, alpha=0.5, label=f\"{thislabel}\")\n        norm = d_abs.data[-100:].mean()\n        myconcs.append(expected_QESR)\n        fl.next(\"dblint, normed\\n\u2192 check for \u2153\")\n        fl.plot(d_abs/norm, alpha=0.5)\n        if filenum == 0:\n            axhline(y=0, color='k', alpha=0.2)\n            axhline(y=1/3, color='k', alpha=0.2)\n            axhline(y=2/3, color='k', alpha=0.2)\n            axhline(y=1, color='k', alpha=0.2)\n    fl.next('compare my QESR to Bruker')\n    fl.plot(QESR_concs,myconcs,'x')\n    myconcs.append(0) # add a point at 0,0\n    m, b = np.polyfit(r_[QESR_concs,0],myconcs,1)\n    myconcs = myconcs[:-1]\n    x = r_[QESR_concs.min():QESR_concs.max():100j]\n    fl.plot(x,m*x+b,label='m=%g b=%g'%(m,b))\n    # from above m = 3.99635e-3\n    m_hardcode = 3.99635e-3\n    assert np.isclose(m,m_hardcode)\n    for j in range(len(myconcs)):\n        print(\"Bruker: %04.2f Ours: %04.2f\"%(QESR_concs[j]/1e-6,myconcs[j]/m_hardcode/1e-6))"
      ]
    }
  ],
  "metadata": {
    "kernelspec": {
      "display_name": "Python 3",
      "language": "python",
      "name": "python3"
    },
    "language_info": {
      "codemirror_mode": {
        "name": "ipython",
        "version": 3
      },
      "file_extension": ".py",
      "mimetype": "text/x-python",
      "name": "python",
      "nbconvert_exporter": "python",
      "pygments_lexer": "ipython3",
      "version": "3.11.2"
    }
  },
  "nbformat": 4,
  "nbformat_minor": 0
}