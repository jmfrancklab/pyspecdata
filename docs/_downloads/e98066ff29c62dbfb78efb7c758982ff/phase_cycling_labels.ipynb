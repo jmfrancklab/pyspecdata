{
  "cells": [
    {
      "cell_type": "code",
      "execution_count": null,
      "metadata": {
        "collapsed": false
      },
      "outputs": [],
      "source": [
        "%matplotlib inline"
      ]
    },
    {
      "cell_type": "markdown",
      "metadata": {},
      "source": [
        "\n# phase cycling labels\n\ndemonstrate automatic labeling of phase cycling (coherence) axes\n"
      ]
    },
    {
      "cell_type": "code",
      "execution_count": null,
      "metadata": {
        "collapsed": false
      },
      "outputs": [],
      "source": [
        "from pyspecdata import *\na = nddata(r_[0:90],[3,3,10],['ph1','ph2','t']).setaxis('ph1','#').setaxis('ph2','#').setaxis('t','#').set_units('t','s')\na.ft(['ph1','ph2','t'])\nprint(a.unitify_axis('ph1'))\nprint(a.unitify_axis('ph2'))\nprint(a.unitify_axis('t'))"
      ]
    }
  ],
  "metadata": {
    "kernelspec": {
      "display_name": "Python 3",
      "language": "python",
      "name": "python3"
    },
    "language_info": {
      "codemirror_mode": {
        "name": "ipython",
        "version": 3
      },
      "file_extension": ".py",
      "mimetype": "text/x-python",
      "name": "python",
      "nbconvert_exporter": "python",
      "pygments_lexer": "ipython3",
      "version": "3.9.7"
    }
  },
  "nbformat": 4,
  "nbformat_minor": 0
}